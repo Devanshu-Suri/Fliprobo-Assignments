{
 "cells": [
  {
   "cell_type": "markdown",
   "metadata": {},
   "source": [
    "# Python - WORKSHEET 1\n",
    "## Solutions\n",
    "\n",
    "1. (C) %\n",
    "2. (B) 0\n",
    "3. (C) 24(6 by 2**2)\n",
    "4. (A) 2\n",
    "5.  C) 6\n",
    "6. (C) the finally block will be executed no matter if the try block raises an error or not. \n",
    "7. (A) It is used to raise an exception.\n",
    "8. (C) in defining a generator\n",
    "9. (A) _abc (C) abc2\n",
    "10. (A) yield B) raise"
   ]
  },
  {
   "cell_type": "markdown",
   "metadata": {},
   "source": [
    "#### 11. Write a python program to find the factorial of a number"
   ]
  },
  {
   "cell_type": "code",
   "execution_count": 1,
   "metadata": {},
   "outputs": [
    {
     "name": "stdout",
     "output_type": "stream",
     "text": [
      "Enter a number: 6\n",
      "The factorial of a number 6 : is 720\n"
     ]
    }
   ],
   "source": [
    "# To take input from the user\n",
    "n = int(input(\"Enter a number: \"))\n",
    "\n",
    "factorial = 1\n",
    "\n",
    "# check if the number is negative, positive or zero\n",
    "if n < 0:\n",
    "    print(\"Sorry, factorial does not exist for negative numbers\")\n",
    "elif n == 0:\n",
    "    print(\"The factorial of 0 is 1\")\n",
    "else:\n",
    "    for i in range(1,n + 1):\n",
    "        factorial = factorial*i\n",
    "    print(f\"The factorial of a number {n} : is {factorial}\")"
   ]
  },
  {
   "cell_type": "markdown",
   "metadata": {},
   "source": [
    "#### 12. Write a python program to find whether a number is prime or composite"
   ]
  },
  {
   "cell_type": "code",
   "execution_count": 14,
   "metadata": {},
   "outputs": [
    {
     "name": "stdout",
     "output_type": "stream",
     "text": [
      "Enter a number: 7\n",
      "7 is a prime number\n"
     ]
    }
   ],
   "source": [
    "# To take input from the user\n",
    "n = int(input(\"Enter a number: \"))\n",
    " \n",
    "# prime numbers are greater than 1\n",
    "if n > 1:\n",
    "    \n",
    "    for i in range(2,n):\n",
    "        \n",
    "        if (n % i) == 0:\n",
    "            print(f\"{n} is a composite number\")\n",
    "            break\n",
    "    else:\n",
    "        print(f\"{n} is a prime number\")\n",
    "elif n == 1:\n",
    "    print(\"one is neither prime nor  composite\")\n",
    "\n",
    "else:\n",
    "    print(f\"{n} is a composite number\")"
   ]
  },
  {
   "cell_type": "markdown",
   "metadata": {},
   "source": [
    "#### 13. Write a python program to check whether a given string is palindrome or not"
   ]
  },
  {
   "cell_type": "code",
   "execution_count": 15,
   "metadata": {},
   "outputs": [
    {
     "name": "stdout",
     "output_type": "stream",
     "text": [
      "Enter a String :nitin\n",
      "The string is a palindrome\n"
     ]
    }
   ],
   "source": [
    "str = input(\"Enter a String :\")\n",
    "str =str.replace(\" \", \"\")\n",
    "if(str==str[::-1]):\n",
    "      print(\"The string is a palindrome\")\n",
    "else:\n",
    "      print(\"The string isn't a palindrome\")"
   ]
  },
  {
   "cell_type": "markdown",
   "metadata": {},
   "source": [
    "#### 14. Write a Python program to get the third side of right-angled triangle from two given sides.\n"
   ]
  },
  {
   "cell_type": "code",
   "execution_count": 1,
   "metadata": {},
   "outputs": [
    {
     "name": "stdout",
     "output_type": "stream",
     "text": [
      "Enter first side : 3\n",
      "Enter second side : 4\n",
      " The third side of right-angled triangle is : 5.0\n"
     ]
    }
   ],
   "source": [
    "from math import sqrt\n",
    "side_1 = float(input(\"Enter first side : \"))\n",
    "side_2 = float(input(\"Enter second side : \"))\n",
    "\n",
    "side_3 = sqrt(side_1**2 + side_2**2)\n",
    "print(\" The third side of right-angled triangle is :\", side_3 )"
   ]
  },
  {
   "cell_type": "markdown",
   "metadata": {},
   "source": [
    "#### 15. Write a python program to print the frequency of each of the characters present in a given string."
   ]
  },
  {
   "cell_type": "code",
   "execution_count": 5,
   "metadata": {},
   "outputs": [
    {
     "name": "stdout",
     "output_type": "stream",
     "text": [
      "Enter a String :jai mata di\n",
      "the frequency of each of the characters present in a given string is \n",
      " {'j': 1, 'a': 3, 'i': 2, 'm': 1, 't': 1, 'd': 1}\n"
     ]
    }
   ],
   "source": [
    "str = input(\"Enter a String :\")\n",
    "str =str.replace(\" \", \"\")\n",
    "dict_words={}\n",
    "for i in str:\n",
    "    keys=dict_words.keys()\n",
    "    if i in keys:\n",
    "        dict_words[i]+=1\n",
    "    else :\n",
    "        dict_words[i]=1\n",
    "print(f\"the frequency of each of the characters present in a given string is \\n {dict_words}\")\n",
    "            "
   ]
  },
  {
   "cell_type": "markdown",
   "metadata": {},
   "source": [
    "# End of Document"
   ]
  }
 ],
 "metadata": {
  "kernelspec": {
   "display_name": "Python 3",
   "language": "python",
   "name": "python3"
  },
  "language_info": {
   "codemirror_mode": {
    "name": "ipython",
    "version": 3
   },
   "file_extension": ".py",
   "mimetype": "text/x-python",
   "name": "python",
   "nbconvert_exporter": "python",
   "pygments_lexer": "ipython3",
   "version": "3.7.4"
  }
 },
 "nbformat": 4,
 "nbformat_minor": 4
}
