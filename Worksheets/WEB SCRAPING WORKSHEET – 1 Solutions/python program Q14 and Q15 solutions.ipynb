{
 "cells": [
  {
   "cell_type": "code",
   "execution_count": 1,
   "metadata": {},
   "outputs": [
    {
     "name": "stdout",
     "output_type": "stream",
     "text": [
      "The Times Of India\n"
     ]
    }
   ],
   "source": [
    "from bs4 import BeautifulSoup as bs\n",
    "import requests\n",
    "r = requests.get('https://timesofindia.indiatimes.com/defaultinterstitial.cms')\n",
    "soup = bs(r.content, 'lxml')\n",
    "title=soup.select_one('title').text\n",
    "if title == None:\n",
    "      print(\"Title could not be found\") \n",
    "else:\n",
    "      print(title) "
   ]
  },
  {
   "cell_type": "code",
   "execution_count": 2,
   "metadata": {},
   "outputs": [],
   "source": [
    "from selenium import webdriver\n",
    "url='https://images.google.com/'\n",
    "keyword='Data Science'\n",
    "driver=webdriver.Chrome(executable_path='chromedriver')\n",
    "driver.get(url)\n",
    "searchbar=driver.find_element_by_name('q')\n",
    "searchbar.send_keys(keyword)\n",
    "searchbar.send_keys('\\n')"
   ]
  }
 ],
 "metadata": {
  "kernelspec": {
   "display_name": "Python 3",
   "language": "python",
   "name": "python3"
  },
  "language_info": {
   "codemirror_mode": {
    "name": "ipython",
    "version": 3
   },
   "file_extension": ".py",
   "mimetype": "text/x-python",
   "name": "python",
   "nbconvert_exporter": "python",
   "pygments_lexer": "ipython3",
   "version": "3.7.4"
  }
 },
 "nbformat": 4,
 "nbformat_minor": 2
}
