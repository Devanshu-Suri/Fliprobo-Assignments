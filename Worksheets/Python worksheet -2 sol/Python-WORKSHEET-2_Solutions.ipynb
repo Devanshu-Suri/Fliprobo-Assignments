{
 "cells": [
  {
   "cell_type": "markdown",
   "metadata": {},
   "source": [
    "# Python - WORKSHEET 2\n",
    "## Solutions\n",
    "\n",
    "1. (B) struct\n",
    "2. (C) 1_no\n",
    "3. (A) in\n",
    "4. (A) Left to Right\n",
    "5. (C) iv – iii – ii – i\n",
    "6. (C) 0.3333… \n",
    "7. (A) x**4**4\n",
    "8. (B) str\n",
    "9. A) Division and multiplication have same precedence in python ,(B) Python’s operators’ precedence is based on PEDMAS,D) In case of operators’ having same precedence, the one on the left side is executed first.\n",
    "10. A) abc = 1,000,000 ,C) a,b,c = 1000, 2000, 3000 ,D) a_b_c = 1,000,000\n",
    "\n",
    "11.\n",
    "**Lists**\n",
    "\n",
    "* List is a collection which is ordered.\n",
    "* Lists are mutable (changeable) .\n",
    "* Allows duplicate members\n",
    "* Brackets used to represent: []\n",
    "* Lists are like arrays declared in other languages.\n",
    "\n",
    "**Tuples**\n",
    "\n",
    "* Collection of items which is ordered.\n",
    "* Tuples are immutable (unchangeable) .\n",
    "* Brackets used to represent: ()\n",
    "* Only difference between tuples and lists are that lists can be changed.\n",
    "* Tuples are faster than lists as they are immutable.\n",
    "\n",
    "**Sets**\n",
    "\n",
    "* Collection of Unordered and Unindexed items.\n",
    "* Sets are mutable (changeable).\n",
    "* Does not take duplicate Values.\n",
    "* Sets are unordered, so you cannot be sure in which order the items will appear.\n",
    "* Brackets used to represent: { }.\n",
    "* Sets are not faster than lists however they have a upper hand when it comes to membership testing.\n",
    "\n",
    "**Dictionaries**\n",
    "\n",
    "* Key:Value Pair in Python\n",
    "* A dictionary is a collection which is unordered, changeable and indexed.\n",
    "* In Python dictionaries are written with curly brackets, and they have keys and values.\n",
    "* Brackets used to represent: {}."
   ]
  },
  {
   "cell_type": "markdown",
   "metadata": {},
   "source": [
    "12. **Answer is as follows :**\n",
    "\n",
    " * Strings in Python are immutable, so we cannot change them in place.\n",
    " * Yes we can replace the I+Love+Python to 'I Love Python' but the original string remain the same"
   ]
  },
  {
   "cell_type": "code",
   "execution_count": 1,
   "metadata": {},
   "outputs": [
    {
     "data": {
      "text/plain": [
       "'I Love Python'"
      ]
     },
     "execution_count": 1,
     "metadata": {},
     "output_type": "execute_result"
    }
   ],
   "source": [
    "string= \"I+Love+Python\"\n",
    "string = string.replace(\"+\",\" \")\n",
    "string"
   ]
  },
  {
   "cell_type": "markdown",
   "metadata": {},
   "source": [
    "13. **Answer is as follows :**\n",
    "\n",
    "  * The ord() function in python accepts a string of length 1 as an arguement and returns a unicode code point representation of the passed arguement.\n",
    "  * For example, ord(‘a’) returns the integer 97, which is a unicode code point value of character 'B'.Similarly ord(‘€’) (Euro sign) returns 8364. This is the inverse of chr() for 8-bit strings and of unichr() for unicode objects.\n",
    "\n",
    "  * If the string length is more then one, and a TypeError will be raised.\n",
    "\n",
    "  * The function for getting the datatype of a variable in python is type().\n"
   ]
  },
  {
   "cell_type": "code",
   "execution_count": 2,
   "metadata": {},
   "outputs": [
    {
     "data": {
      "text/plain": [
       "int"
      ]
     },
     "execution_count": 2,
     "metadata": {},
     "output_type": "execute_result"
    }
   ],
   "source": [
    "a = 56\n",
    "#to get datatype of a\n",
    "type(a)"
   ]
  },
  {
   "cell_type": "markdown",
   "metadata": {},
   "source": [
    "14. **Answer is as follows :**"
   ]
  },
  {
   "cell_type": "code",
   "execution_count": 4,
   "metadata": {},
   "outputs": [
    {
     "name": "stdout",
     "output_type": "stream",
     "text": [
      "Enter value of a: 0\n",
      "a should be non-zero\n",
      "Enter value of a: 5\n",
      "Enter value of b: 5\n",
      "Enter value of c: 6\n",
      "The equation has two complex (conjugate) roots:  (-0.5+0.9746794344808963j)  and  (-0.5-0.9746794344808963j)\n"
     ]
    }
   ],
   "source": [
    "import math\n",
    "\n",
    "def quadratic(a,b,c):\n",
    "    discriminant = b**2 - 4 * a * c\n",
    "\n",
    "    if discriminant >= 0:\n",
    "        x1=(-b+math.sqrt(discriminant))/2*a\n",
    "        x2=(-b-math.sqrt(discriminant))/2*a\n",
    "    else:\n",
    "        x1= complex((-b/(2*a)),math.sqrt(-discriminant)/(2*a))\n",
    "        x2= complex((-b/(2*a)),-math.sqrt(-discriminant)/(2*a))\n",
    "\n",
    "    if discriminant > 0:\n",
    "        print(\"The equation has two distinct real roots: \", x1, \" and \", x2)\n",
    "    elif discriminant == 0:\n",
    "        print(\"The equation has same root: \", x1)\n",
    "    else:\n",
    "        print(\"The equation has two complex (conjugate) roots: \", x1, \" and \", x2)\n",
    "def input_a():\n",
    "    a=int(input(\"Enter value of a: \" ))\n",
    "    if a==0:\n",
    "        print(\"a should be non-zero\")\n",
    "        a=input_a()\n",
    "    return a\n",
    "\n",
    "def input_value():\n",
    "    \n",
    "    b=int(input(\"Enter value of b: \" ))\n",
    "    c=int(input(\"Enter value of c: \" ))\n",
    "    \n",
    "    return b,c\n",
    "a=input_a()\n",
    "b,c=input_value()\n",
    "quadratic(a,b,c)"
   ]
  },
  {
   "cell_type": "markdown",
   "metadata": {},
   "source": [
    "15. **Answer is as follows :**"
   ]
  },
  {
   "cell_type": "code",
   "execution_count": 5,
   "metadata": {},
   "outputs": [
    {
     "name": "stdout",
     "output_type": "stream",
     "text": [
      "Enter a number20\n",
      "Sum of first 20 natural numbers is: 210.0\n"
     ]
    }
   ],
   "source": [
    "n = int(input(\"Enter a number\"))\n",
    "sum_of_natural_number=n * (n+1) / 2\n",
    "print(f\"Sum of first {n} natural numbers is:\" , sum_of_natural_number)"
   ]
  },
  {
   "cell_type": "markdown",
   "metadata": {},
   "source": [
    "# End of Document"
   ]
  }
 ],
 "metadata": {
  "kernelspec": {
   "display_name": "Python 3",
   "language": "python",
   "name": "python3"
  },
  "language_info": {
   "codemirror_mode": {
    "name": "ipython",
    "version": 3
   },
   "file_extension": ".py",
   "mimetype": "text/x-python",
   "name": "python",
   "nbconvert_exporter": "python",
   "pygments_lexer": "ipython3",
   "version": "3.7.4"
  }
 },
 "nbformat": 4,
 "nbformat_minor": 4
}
