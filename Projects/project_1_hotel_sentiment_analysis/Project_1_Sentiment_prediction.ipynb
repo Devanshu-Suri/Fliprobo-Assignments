{
 "cells": [
  {
   "cell_type": "markdown",
   "metadata": {},
   "source": [
    "## Predicting whether the cusomer's reviews are positive/negative using machine learning\n",
    "\n",
    "\n",
    "#### 1. Problem Definition\n",
    "In a statement,\n",
    "The problem we will be exploring is binary classification (a sample can only be one of two things).\n",
    "\n",
    "This is because we're going to be using a number of differnet features (pieces of information) about a person feedbacks to predict that the reviews are positive/negative.\n",
    "\n",
    "#### 2. Data\n",
    "All of the dataset values were collected from customers who are visiting our hotel in the form of feedback.\n",
    "\n",
    "#### 3. Evaluation\n",
    "Evaluating a models predictions using problem-specific evaluation metrics\n",
    "\n",
    "#### 4. Features\n",
    "The following are the features we'll use to predict our target variable Is_Response.\n",
    "\n",
    "Features:                    \n",
    "1) User_ID:  unique id for each customer.                     \n",
    "2) Description:  feedback customers are giving on the basis of the services provided to them.        \n",
    "3) Browser_Used:  what browser customers are using to give their feedback.      \n",
    "4) Device_Used:  what device customers are using.       \n",
    "\n",
    "Label:       \n",
    "1) Is_Response: Overall response  about the restaurant.\n",
    "\n"
   ]
  },
  {
   "cell_type": "code",
   "execution_count": 1,
   "metadata": {},
   "outputs": [],
   "source": [
    "# Regular EDA (exploratory data analysis) and plotting libraries\n",
    "import numpy as np\n",
    "import pandas as pd\n",
    "import matplotlib.pyplot as plt\n",
    "import seaborn as sns\n",
    "# Models from Scikit-Learn\n",
    "from sklearn.linear_model import LogisticRegression\n",
    "from sklearn.ensemble import RandomForestClassifier\n",
    "from sklearn.ensemble import GradientBoostingClassifier\n",
    "from sklearn.naive_bayes import MultinomialNB\n",
    "\n",
    "# Model Evaluations\n",
    "from sklearn.model_selection import train_test_split, cross_val_score,cross_val_predict\n",
    "from sklearn.model_selection import GridSearchCV\n",
    "from sklearn.metrics import confusion_matrix, classification_report,accuracy_score\n",
    "from sklearn.metrics import precision_score, recall_score, f1_score\n",
    "from sklearn.metrics import roc_curve,roc_auc_score,auc\n",
    "import warnings\n",
    "warnings.filterwarnings('ignore')\n",
    "#nltk\n",
    "import pandas as pd\n",
    "import re\n",
    "import nltk\n",
    "from nltk.corpus import stopwords\n",
    "\n",
    "from nltk.stem import WordNetLemmatizer, SnowballStemmer\n",
    "\n",
    "\n"
   ]
  },
  {
   "cell_type": "markdown",
   "metadata": {},
   "source": [
    "## Data acquisition"
   ]
  },
  {
   "cell_type": "code",
   "execution_count": 2,
   "metadata": {},
   "outputs": [
    {
     "data": {
      "text/html": [
       "<div>\n",
       "<style scoped>\n",
       "    .dataframe tbody tr th:only-of-type {\n",
       "        vertical-align: middle;\n",
       "    }\n",
       "\n",
       "    .dataframe tbody tr th {\n",
       "        vertical-align: top;\n",
       "    }\n",
       "\n",
       "    .dataframe thead th {\n",
       "        text-align: right;\n",
       "    }\n",
       "</style>\n",
       "<table border=\"1\" class=\"dataframe\">\n",
       "  <thead>\n",
       "    <tr style=\"text-align: right;\">\n",
       "      <th></th>\n",
       "      <th>User_ID</th>\n",
       "      <th>Description</th>\n",
       "      <th>Browser_Used</th>\n",
       "      <th>Device_Used</th>\n",
       "      <th>Is_Response</th>\n",
       "    </tr>\n",
       "  </thead>\n",
       "  <tbody>\n",
       "    <tr>\n",
       "      <td>0</td>\n",
       "      <td>id10326</td>\n",
       "      <td>The room was kind of clean but had a VERY stro...</td>\n",
       "      <td>Edge</td>\n",
       "      <td>Mobile</td>\n",
       "      <td>not happy</td>\n",
       "    </tr>\n",
       "    <tr>\n",
       "      <td>1</td>\n",
       "      <td>id10327</td>\n",
       "      <td>I stayed at the Crown Plaza April -- - April -...</td>\n",
       "      <td>Internet Explorer</td>\n",
       "      <td>Mobile</td>\n",
       "      <td>not happy</td>\n",
       "    </tr>\n",
       "    <tr>\n",
       "      <td>2</td>\n",
       "      <td>id10328</td>\n",
       "      <td>I booked this hotel through Hotwire at the low...</td>\n",
       "      <td>Mozilla</td>\n",
       "      <td>Tablet</td>\n",
       "      <td>not happy</td>\n",
       "    </tr>\n",
       "    <tr>\n",
       "      <td>3</td>\n",
       "      <td>id10329</td>\n",
       "      <td>Stayed here with husband and sons on the way t...</td>\n",
       "      <td>InternetExplorer</td>\n",
       "      <td>Desktop</td>\n",
       "      <td>happy</td>\n",
       "    </tr>\n",
       "    <tr>\n",
       "      <td>4</td>\n",
       "      <td>id10330</td>\n",
       "      <td>My girlfriends and I stayed here to celebrate ...</td>\n",
       "      <td>Edge</td>\n",
       "      <td>Tablet</td>\n",
       "      <td>not happy</td>\n",
       "    </tr>\n",
       "    <tr>\n",
       "      <td>...</td>\n",
       "      <td>...</td>\n",
       "      <td>...</td>\n",
       "      <td>...</td>\n",
       "      <td>...</td>\n",
       "      <td>...</td>\n",
       "    </tr>\n",
       "    <tr>\n",
       "      <td>38927</td>\n",
       "      <td>id49253</td>\n",
       "      <td>We arrived late at night and walked in to a ch...</td>\n",
       "      <td>Edge</td>\n",
       "      <td>Desktop</td>\n",
       "      <td>happy</td>\n",
       "    </tr>\n",
       "    <tr>\n",
       "      <td>38928</td>\n",
       "      <td>id49254</td>\n",
       "      <td>The only positive impression is location and p...</td>\n",
       "      <td>InternetExplorer</td>\n",
       "      <td>Mobile</td>\n",
       "      <td>not happy</td>\n",
       "    </tr>\n",
       "    <tr>\n",
       "      <td>38929</td>\n",
       "      <td>id49255</td>\n",
       "      <td>Traveling with friends for shopping and a show...</td>\n",
       "      <td>Firefox</td>\n",
       "      <td>Mobile</td>\n",
       "      <td>not happy</td>\n",
       "    </tr>\n",
       "    <tr>\n",
       "      <td>38930</td>\n",
       "      <td>id49256</td>\n",
       "      <td>The experience was just ok. We paid extra for ...</td>\n",
       "      <td>Chrome</td>\n",
       "      <td>Desktop</td>\n",
       "      <td>not happy</td>\n",
       "    </tr>\n",
       "    <tr>\n",
       "      <td>38931</td>\n",
       "      <td>id49257</td>\n",
       "      <td>The Westin is a wonderfully restored grande da...</td>\n",
       "      <td>Mozilla</td>\n",
       "      <td>Desktop</td>\n",
       "      <td>happy</td>\n",
       "    </tr>\n",
       "  </tbody>\n",
       "</table>\n",
       "<p>38932 rows × 5 columns</p>\n",
       "</div>"
      ],
      "text/plain": [
       "       User_ID                                        Description  \\\n",
       "0      id10326  The room was kind of clean but had a VERY stro...   \n",
       "1      id10327  I stayed at the Crown Plaza April -- - April -...   \n",
       "2      id10328  I booked this hotel through Hotwire at the low...   \n",
       "3      id10329  Stayed here with husband and sons on the way t...   \n",
       "4      id10330  My girlfriends and I stayed here to celebrate ...   \n",
       "...        ...                                                ...   \n",
       "38927  id49253  We arrived late at night and walked in to a ch...   \n",
       "38928  id49254  The only positive impression is location and p...   \n",
       "38929  id49255  Traveling with friends for shopping and a show...   \n",
       "38930  id49256  The experience was just ok. We paid extra for ...   \n",
       "38931  id49257  The Westin is a wonderfully restored grande da...   \n",
       "\n",
       "            Browser_Used Device_Used Is_Response  \n",
       "0                   Edge      Mobile   not happy  \n",
       "1      Internet Explorer      Mobile   not happy  \n",
       "2                Mozilla      Tablet   not happy  \n",
       "3       InternetExplorer     Desktop       happy  \n",
       "4                   Edge      Tablet   not happy  \n",
       "...                  ...         ...         ...  \n",
       "38927               Edge     Desktop       happy  \n",
       "38928   InternetExplorer      Mobile   not happy  \n",
       "38929            Firefox      Mobile   not happy  \n",
       "38930             Chrome     Desktop   not happy  \n",
       "38931            Mozilla     Desktop       happy  \n",
       "\n",
       "[38932 rows x 5 columns]"
      ]
     },
     "execution_count": 2,
     "metadata": {},
     "output_type": "execute_result"
    }
   ],
   "source": [
    "# Reading the csv files\n",
    "df_hotel_train =pd.read_csv(\"restraudent_train.csv\")\n",
    "df_hotel_train\n"
   ]
  },
  {
   "cell_type": "markdown",
   "metadata": {},
   "source": [
    "## Data Preprocessing "
   ]
  },
  {
   "cell_type": "code",
   "execution_count": 3,
   "metadata": {},
   "outputs": [
    {
     "data": {
      "text/html": [
       "<div>\n",
       "<style scoped>\n",
       "    .dataframe tbody tr th:only-of-type {\n",
       "        vertical-align: middle;\n",
       "    }\n",
       "\n",
       "    .dataframe tbody tr th {\n",
       "        vertical-align: top;\n",
       "    }\n",
       "\n",
       "    .dataframe thead th {\n",
       "        text-align: right;\n",
       "    }\n",
       "</style>\n",
       "<table border=\"1\" class=\"dataframe\">\n",
       "  <thead>\n",
       "    <tr style=\"text-align: right;\">\n",
       "      <th></th>\n",
       "      <th>User_ID</th>\n",
       "      <th>Description</th>\n",
       "      <th>Browser_Used</th>\n",
       "      <th>Device_Used</th>\n",
       "      <th>Is_Response</th>\n",
       "    </tr>\n",
       "  </thead>\n",
       "  <tbody>\n",
       "    <tr>\n",
       "      <td>0</td>\n",
       "      <td>id10326</td>\n",
       "      <td>The room was kind of clean but had a VERY stro...</td>\n",
       "      <td>Edge</td>\n",
       "      <td>Mobile</td>\n",
       "      <td>not happy</td>\n",
       "    </tr>\n",
       "    <tr>\n",
       "      <td>1</td>\n",
       "      <td>id10327</td>\n",
       "      <td>I stayed at the Crown Plaza April -- - April -...</td>\n",
       "      <td>Internet Explorer</td>\n",
       "      <td>Mobile</td>\n",
       "      <td>not happy</td>\n",
       "    </tr>\n",
       "    <tr>\n",
       "      <td>2</td>\n",
       "      <td>id10328</td>\n",
       "      <td>I booked this hotel through Hotwire at the low...</td>\n",
       "      <td>Mozilla</td>\n",
       "      <td>Tablet</td>\n",
       "      <td>not happy</td>\n",
       "    </tr>\n",
       "    <tr>\n",
       "      <td>3</td>\n",
       "      <td>id10329</td>\n",
       "      <td>Stayed here with husband and sons on the way t...</td>\n",
       "      <td>InternetExplorer</td>\n",
       "      <td>Desktop</td>\n",
       "      <td>happy</td>\n",
       "    </tr>\n",
       "    <tr>\n",
       "      <td>4</td>\n",
       "      <td>id10330</td>\n",
       "      <td>My girlfriends and I stayed here to celebrate ...</td>\n",
       "      <td>Edge</td>\n",
       "      <td>Tablet</td>\n",
       "      <td>not happy</td>\n",
       "    </tr>\n",
       "  </tbody>\n",
       "</table>\n",
       "</div>"
      ],
      "text/plain": [
       "   User_ID                                        Description  \\\n",
       "0  id10326  The room was kind of clean but had a VERY stro...   \n",
       "1  id10327  I stayed at the Crown Plaza April -- - April -...   \n",
       "2  id10328  I booked this hotel through Hotwire at the low...   \n",
       "3  id10329  Stayed here with husband and sons on the way t...   \n",
       "4  id10330  My girlfriends and I stayed here to celebrate ...   \n",
       "\n",
       "        Browser_Used Device_Used Is_Response  \n",
       "0               Edge      Mobile   not happy  \n",
       "1  Internet Explorer      Mobile   not happy  \n",
       "2            Mozilla      Tablet   not happy  \n",
       "3   InternetExplorer     Desktop       happy  \n",
       "4               Edge      Tablet   not happy  "
      ]
     },
     "execution_count": 3,
     "metadata": {},
     "output_type": "execute_result"
    }
   ],
   "source": [
    "# Display The head ==> To Check if Data is Properly Imported\n",
    "df_hotel_train.head()"
   ]
  },
  {
   "cell_type": "code",
   "execution_count": 4,
   "metadata": {},
   "outputs": [
    {
     "name": "stdout",
     "output_type": "stream",
     "text": [
      "\n",
      "Features/Columns : \n",
      " Index(['User_ID', 'Description', 'Browser_Used', 'Device_Used', 'Is_Response'], dtype='object')\n",
      "\n",
      "\n",
      "Number of Features/Columns :  5\n",
      "\n",
      "Number of Rows :  38932\n",
      "\n",
      "\n",
      "Data Types :\n",
      " User_ID         object\n",
      "Description     object\n",
      "Browser_Used    object\n",
      "Device_Used     object\n",
      "Is_Response     object\n",
      "dtype: object\n",
      "sum of duplicated values0\n",
      "\n",
      "\n",
      "Contains NaN/Empty cells :  False\n",
      "\n",
      "Total empty cells by column :\n",
      " User_ID         0\n",
      "Description     0\n",
      "Browser_Used    0\n",
      "Device_Used     0\n",
      "Is_Response     0\n",
      "dtype: int64 \n",
      "\n",
      "\n"
     ]
    }
   ],
   "source": [
    "# chechking the features,duplicate values and nan values in the Datasets\n",
    "\n",
    "print(\"\\nFeatures/Columns : \\n\", df_hotel_train.columns)\n",
    "print(\"\\n\\nNumber of Features/Columns : \", len(df_hotel_train.columns))\n",
    "print(\"\\nNumber of Rows : \",len(df_hotel_train))\n",
    "print(\"\\n\\nData Types :\\n\", df_hotel_train.dtypes)\n",
    "print(\"sum of duplicated values{}\\n\".format(df_hotel_train.duplicated().sum()))\n",
    "print(\"\\nContains NaN/Empty cells : \", df_hotel_train.isnull().values.any())\n",
    "print(\"\\nTotal empty cells by column :\\n\", df_hotel_train.isnull().sum(),\"\\n\\n\")"
   ]
  },
  {
   "cell_type": "code",
   "execution_count": 5,
   "metadata": {},
   "outputs": [
    {
     "name": "stdout",
     "output_type": "stream",
     "text": [
      "number of unique valuse of User_ID : 38932\n",
      "number of unique valuse of Description : 38932\n",
      "number of unique valuse of Browser_Used : 11\n",
      "number of unique valuse of Device_Used : 3\n",
      "number of unique valuse of Is_Response : 2\n"
     ]
    }
   ],
   "source": [
    "# Number of unique value in each features\n",
    "for col in df_hotel_train.columns.values:\n",
    "    print(\"number of unique valuse of {} : {}\".format(col, df_hotel_train[col].nunique()))"
   ]
  },
  {
   "cell_type": "code",
   "execution_count": 6,
   "metadata": {},
   "outputs": [
    {
     "data": {
      "text/plain": [
       "<matplotlib.legend.Legend at 0x18b7fef2948>"
      ]
     },
     "execution_count": 6,
     "metadata": {},
     "output_type": "execute_result"
    },
    {
     "data": {
      "image/png": "[encoded data removed]",
      "text/plain": [
       "<Figure size 360x360 with 1 Axes>"
      ]
     },
     "metadata": {
      "needs_background": "light"
     },
     "output_type": "display_data"
    }
   ],
   "source": [
    "#Lets check the count of each class in target varaible\n",
    "%matplotlib inline\n",
    "sns.catplot(x='Is_Response',data=df_hotel_train,kind='count',hue='Is_Response')\n",
    "plt.legend()"
   ]
  },
  {
   "cell_type": "markdown",
   "metadata": {},
   "source": [
    "* Here we see data is unbalanced but all the classes have significant number of instances"
   ]
  },
  {
   "cell_type": "code",
   "execution_count": 7,
   "metadata": {},
   "outputs": [],
   "source": [
    "#Deleting Unnnecessary Columns\n",
    "df_hotel_train=df_hotel_train.drop(['User_ID','Browser_Used','Device_Used'],axis=1) #Dropping the column \"User_ID\", \"Browser_Used\",\"Device_Used\""
   ]
  },
  {
   "cell_type": "code",
   "execution_count": 8,
   "metadata": {},
   "outputs": [],
   "source": [
    "# Return the wordnet object value corresponding to the POS tag\n",
    "#Part-Of-Speech (POS) tagging: assign a tag to every word to define if it corresponds to a noun, a verb etc. using the WordNet lexical database\n",
    "from nltk.corpus import wordnet\n",
    "\n",
    "def get_wordnet_pos(pos_tag):\n",
    "    if pos_tag.startswith('J'):\n",
    "        return wordnet.ADJ\n",
    "    elif pos_tag.startswith('V'):\n",
    "        return wordnet.VERB\n",
    "    elif pos_tag.startswith('N'):\n",
    "        return wordnet.NOUN\n",
    "    elif pos_tag.startswith('R'):\n",
    "        return wordnet.ADV\n",
    "    else:\n",
    "        return wordnet.NOUN\n",
    "    \n",
    "import string\n",
    "from nltk import pos_tag\n",
    "from nltk.corpus import stopwords\n",
    "from nltk.stem import WordNetLemmatizer\n",
    "#stemmer = SnowballStemmer(\"english\")\n",
    "\n",
    "def clean_text(text):\n",
    "    # lower text\n",
    "    text = text.lower()\n",
    "    text = re.sub(\"[^\\w\\s]\", \" \", text) \n",
    "    # tokenize text and remove puncutation\n",
    "    text = [word.strip(string.punctuation) for word in text.split(\" \")]\n",
    "    # remove words that contain numbers\n",
    "    text = [word for word in text if not any(c.isdigit() for c in word)]\n",
    "    # remove stop words\n",
    "    stop = stopwords.words('english')\n",
    "    text = [x for x in text if x not in stop]\n",
    "    # remove empty tokens\n",
    "    text = [t for t in text if len(t) > 0]\n",
    "    # pos tag text\n",
    "    pos_tags = pos_tag(text)\n",
    "    # lemmatize text\n",
    "    text = [WordNetLemmatizer().lemmatize(t[0], get_wordnet_pos(t[1])) for t in pos_tags]\n",
    "    #text=stemmer.stem(text)\n",
    "    # remove words with only one letter\n",
    "    text = [t for t in text if len(t) > 2]\n",
    "    # join all\n",
    "    text = \" \".join(text)\n",
    "    return(text)\n",
    "\n",
    "# clean text data\n",
    "df_hotel_train[\"description_clean\"] = df_hotel_train[\"Description\"].apply(lambda x: clean_text(x))"
   ]
  },
  {
   "cell_type": "markdown",
   "metadata": {},
   "source": [
    "### To clean textual data, call  custom 'clean_text' function that performs several transformations:\n",
    "\n",
    "* lower the text\n",
    "* tokenize the text (split the text into words) and remove the punctuation\n",
    "* remove useless words that contain numbers\n",
    "* remove useless stop words like 'the', 'a' ,'this','is' etc.\n",
    "* Part-Of-Speech (POS) tagging: assign a tag to every word to define if it corresponds to a noun, a verb etc. using the WordNet   lexical database\n",
    "* lemmatize the text: transform every word into their root form (e.g. rooms -> room, slept -> sleep)"
   ]
  },
  {
   "cell_type": "code",
   "execution_count": 9,
   "metadata": {},
   "outputs": [
    {
     "data": {
      "text/html": [
       "<div>\n",
       "<style scoped>\n",
       "    .dataframe tbody tr th:only-of-type {\n",
       "        vertical-align: middle;\n",
       "    }\n",
       "\n",
       "    .dataframe tbody tr th {\n",
       "        vertical-align: top;\n",
       "    }\n",
       "\n",
       "    .dataframe thead th {\n",
       "        text-align: right;\n",
       "    }\n",
       "</style>\n",
       "<table border=\"1\" class=\"dataframe\">\n",
       "  <thead>\n",
       "    <tr style=\"text-align: right;\">\n",
       "      <th></th>\n",
       "      <th>Description</th>\n",
       "      <th>Is_Response</th>\n",
       "      <th>description_clean</th>\n",
       "    </tr>\n",
       "  </thead>\n",
       "  <tbody>\n",
       "    <tr>\n",
       "      <td>0</td>\n",
       "      <td>The room was kind of clean but had a VERY stro...</td>\n",
       "      <td>not happy</td>\n",
       "      <td>room kind clean strong smell dog generally ave...</td>\n",
       "    </tr>\n",
       "    <tr>\n",
       "      <td>1</td>\n",
       "      <td>I stayed at the Crown Plaza April -- - April -...</td>\n",
       "      <td>not happy</td>\n",
       "      <td>stay crown plaza april april staff friendly at...</td>\n",
       "    </tr>\n",
       "    <tr>\n",
       "      <td>2</td>\n",
       "      <td>I booked this hotel through Hotwire at the low...</td>\n",
       "      <td>not happy</td>\n",
       "      <td>booked hotel hotwire low price could find got ...</td>\n",
       "    </tr>\n",
       "    <tr>\n",
       "      <td>3</td>\n",
       "      <td>Stayed here with husband and sons on the way t...</td>\n",
       "      <td>happy</td>\n",
       "      <td>stayed husband son way alaska cruise love hote...</td>\n",
       "    </tr>\n",
       "    <tr>\n",
       "      <td>4</td>\n",
       "      <td>My girlfriends and I stayed here to celebrate ...</td>\n",
       "      <td>not happy</td>\n",
       "      <td>girlfriend stay celebrate birthday plan weeken...</td>\n",
       "    </tr>\n",
       "    <tr>\n",
       "      <td>...</td>\n",
       "      <td>...</td>\n",
       "      <td>...</td>\n",
       "      <td>...</td>\n",
       "    </tr>\n",
       "    <tr>\n",
       "      <td>38927</td>\n",
       "      <td>We arrived late at night and walked in to a ch...</td>\n",
       "      <td>happy</td>\n",
       "      <td>arrive late night walk check area completely f...</td>\n",
       "    </tr>\n",
       "    <tr>\n",
       "      <td>38928</td>\n",
       "      <td>The only positive impression is location and p...</td>\n",
       "      <td>not happy</td>\n",
       "      <td>positive impression location public parking op...</td>\n",
       "    </tr>\n",
       "    <tr>\n",
       "      <td>38929</td>\n",
       "      <td>Traveling with friends for shopping and a show...</td>\n",
       "      <td>not happy</td>\n",
       "      <td>travel friend shop show location great best sa...</td>\n",
       "    </tr>\n",
       "    <tr>\n",
       "      <td>38930</td>\n",
       "      <td>The experience was just ok. We paid extra for ...</td>\n",
       "      <td>not happy</td>\n",
       "      <td>experience pay extra view pool get view palm t...</td>\n",
       "    </tr>\n",
       "    <tr>\n",
       "      <td>38931</td>\n",
       "      <td>The Westin is a wonderfully restored grande da...</td>\n",
       "      <td>happy</td>\n",
       "      <td>westin wonderfully restore grande dame hotel b...</td>\n",
       "    </tr>\n",
       "  </tbody>\n",
       "</table>\n",
       "<p>38932 rows × 3 columns</p>\n",
       "</div>"
      ],
      "text/plain": [
       "                                             Description Is_Response  \\\n",
       "0      The room was kind of clean but had a VERY stro...   not happy   \n",
       "1      I stayed at the Crown Plaza April -- - April -...   not happy   \n",
       "2      I booked this hotel through Hotwire at the low...   not happy   \n",
       "3      Stayed here with husband and sons on the way t...       happy   \n",
       "4      My girlfriends and I stayed here to celebrate ...   not happy   \n",
       "...                                                  ...         ...   \n",
       "38927  We arrived late at night and walked in to a ch...       happy   \n",
       "38928  The only positive impression is location and p...   not happy   \n",
       "38929  Traveling with friends for shopping and a show...   not happy   \n",
       "38930  The experience was just ok. We paid extra for ...   not happy   \n",
       "38931  The Westin is a wonderfully restored grande da...       happy   \n",
       "\n",
       "                                       description_clean  \n",
       "0      room kind clean strong smell dog generally ave...  \n",
       "1      stay crown plaza april april staff friendly at...  \n",
       "2      booked hotel hotwire low price could find got ...  \n",
       "3      stayed husband son way alaska cruise love hote...  \n",
       "4      girlfriend stay celebrate birthday plan weeken...  \n",
       "...                                                  ...  \n",
       "38927  arrive late night walk check area completely f...  \n",
       "38928  positive impression location public parking op...  \n",
       "38929  travel friend shop show location great best sa...  \n",
       "38930  experience pay extra view pool get view palm t...  \n",
       "38931  westin wonderfully restore grande dame hotel b...  \n",
       "\n",
       "[38932 rows x 3 columns]"
      ]
     },
     "execution_count": 9,
     "metadata": {},
     "output_type": "execute_result"
    }
   ],
   "source": [
    "df_hotel_train"
   ]
  },
  {
   "cell_type": "markdown",
   "metadata": {},
   "source": [
    "## Feature engineering"
   ]
  },
  {
   "cell_type": "code",
   "execution_count": 10,
   "metadata": {},
   "outputs": [],
   "source": [
    "# add sentiment anaylsis columns\n",
    "from nltk.sentiment.vader import SentimentIntensityAnalyzer\n",
    "\n",
    "sid = SentimentIntensityAnalyzer()\n",
    "df_hotel_train[\"sentiments\"] = df_hotel_train[\"description_clean\"].apply(lambda x: sid.polarity_scores(x))\n",
    "df_hotel_train = pd.concat([df_hotel_train.drop(['sentiments'], axis=1), df_hotel_train['sentiments'].apply(pd.Series)], axis=1)\n"
   ]
  },
  {
   "cell_type": "markdown",
   "metadata": {},
   "source": [
    "* Above adding sentiment analysis features  so I can guess that customers reviews are highly linked to how they felt about hotel. I use Vader, which is a part of the NLTK module designed for sentiment analysis. Vader uses a lexicon of words to find which ones are positives or negatives. It also takes into account the context of the sentences to determine the sentiment scores. For each text, Vader returns 4 values:\n",
    "\n",
    ">> * a neutrality score\n",
    ">> * a positivity score\n",
    ">> * a negativity score\n",
    ">> * an overall score that summarizes the previous scores\n",
    ">> * integrate those 4 values as features in a dataset"
   ]
  },
  {
   "cell_type": "code",
   "execution_count": 11,
   "metadata": {},
   "outputs": [
    {
     "data": {
      "text/html": [
       "<div>\n",
       "<style scoped>\n",
       "    .dataframe tbody tr th:only-of-type {\n",
       "        vertical-align: middle;\n",
       "    }\n",
       "\n",
       "    .dataframe tbody tr th {\n",
       "        vertical-align: top;\n",
       "    }\n",
       "\n",
       "    .dataframe thead th {\n",
       "        text-align: right;\n",
       "    }\n",
       "</style>\n",
       "<table border=\"1\" class=\"dataframe\">\n",
       "  <thead>\n",
       "    <tr style=\"text-align: right;\">\n",
       "      <th></th>\n",
       "      <th>Description</th>\n",
       "      <th>Is_Response</th>\n",
       "      <th>description_clean</th>\n",
       "      <th>neg</th>\n",
       "      <th>neu</th>\n",
       "      <th>pos</th>\n",
       "      <th>compound</th>\n",
       "    </tr>\n",
       "  </thead>\n",
       "  <tbody>\n",
       "    <tr>\n",
       "      <td>0</td>\n",
       "      <td>The room was kind of clean but had a VERY stro...</td>\n",
       "      <td>not happy</td>\n",
       "      <td>room kind clean strong smell dog generally ave...</td>\n",
       "      <td>0.000</td>\n",
       "      <td>0.490</td>\n",
       "      <td>0.510</td>\n",
       "      <td>0.9393</td>\n",
       "    </tr>\n",
       "    <tr>\n",
       "      <td>1</td>\n",
       "      <td>I stayed at the Crown Plaza April -- - April -...</td>\n",
       "      <td>not happy</td>\n",
       "      <td>stay crown plaza april april staff friendly at...</td>\n",
       "      <td>0.022</td>\n",
       "      <td>0.835</td>\n",
       "      <td>0.143</td>\n",
       "      <td>0.8957</td>\n",
       "    </tr>\n",
       "    <tr>\n",
       "      <td>2</td>\n",
       "      <td>I booked this hotel through Hotwire at the low...</td>\n",
       "      <td>not happy</td>\n",
       "      <td>booked hotel hotwire low price could find got ...</td>\n",
       "      <td>0.076</td>\n",
       "      <td>0.771</td>\n",
       "      <td>0.153</td>\n",
       "      <td>0.8860</td>\n",
       "    </tr>\n",
       "    <tr>\n",
       "      <td>3</td>\n",
       "      <td>Stayed here with husband and sons on the way t...</td>\n",
       "      <td>happy</td>\n",
       "      <td>stayed husband son way alaska cruise love hote...</td>\n",
       "      <td>0.020</td>\n",
       "      <td>0.506</td>\n",
       "      <td>0.474</td>\n",
       "      <td>0.9897</td>\n",
       "    </tr>\n",
       "    <tr>\n",
       "      <td>4</td>\n",
       "      <td>My girlfriends and I stayed here to celebrate ...</td>\n",
       "      <td>not happy</td>\n",
       "      <td>girlfriend stay celebrate birthday plan weeken...</td>\n",
       "      <td>0.062</td>\n",
       "      <td>0.762</td>\n",
       "      <td>0.176</td>\n",
       "      <td>0.9497</td>\n",
       "    </tr>\n",
       "    <tr>\n",
       "      <td>...</td>\n",
       "      <td>...</td>\n",
       "      <td>...</td>\n",
       "      <td>...</td>\n",
       "      <td>...</td>\n",
       "      <td>...</td>\n",
       "      <td>...</td>\n",
       "      <td>...</td>\n",
       "    </tr>\n",
       "    <tr>\n",
       "      <td>38927</td>\n",
       "      <td>We arrived late at night and walked in to a ch...</td>\n",
       "      <td>happy</td>\n",
       "      <td>arrive late night walk check area completely f...</td>\n",
       "      <td>0.086</td>\n",
       "      <td>0.621</td>\n",
       "      <td>0.293</td>\n",
       "      <td>0.9430</td>\n",
       "    </tr>\n",
       "    <tr>\n",
       "      <td>38928</td>\n",
       "      <td>The only positive impression is location and p...</td>\n",
       "      <td>not happy</td>\n",
       "      <td>positive impression location public parking op...</td>\n",
       "      <td>0.022</td>\n",
       "      <td>0.656</td>\n",
       "      <td>0.322</td>\n",
       "      <td>0.9565</td>\n",
       "    </tr>\n",
       "    <tr>\n",
       "      <td>38929</td>\n",
       "      <td>Traveling with friends for shopping and a show...</td>\n",
       "      <td>not happy</td>\n",
       "      <td>travel friend shop show location great best sa...</td>\n",
       "      <td>0.113</td>\n",
       "      <td>0.707</td>\n",
       "      <td>0.181</td>\n",
       "      <td>0.7780</td>\n",
       "    </tr>\n",
       "    <tr>\n",
       "      <td>38930</td>\n",
       "      <td>The experience was just ok. We paid extra for ...</td>\n",
       "      <td>not happy</td>\n",
       "      <td>experience pay extra view pool get view palm t...</td>\n",
       "      <td>0.108</td>\n",
       "      <td>0.717</td>\n",
       "      <td>0.175</td>\n",
       "      <td>0.5574</td>\n",
       "    </tr>\n",
       "    <tr>\n",
       "      <td>38931</td>\n",
       "      <td>The Westin is a wonderfully restored grande da...</td>\n",
       "      <td>happy</td>\n",
       "      <td>westin wonderfully restore grande dame hotel b...</td>\n",
       "      <td>0.077</td>\n",
       "      <td>0.385</td>\n",
       "      <td>0.538</td>\n",
       "      <td>0.8555</td>\n",
       "    </tr>\n",
       "  </tbody>\n",
       "</table>\n",
       "<p>38932 rows × 7 columns</p>\n",
       "</div>"
      ],
      "text/plain": [
       "                                             Description Is_Response  \\\n",
       "0      The room was kind of clean but had a VERY stro...   not happy   \n",
       "1      I stayed at the Crown Plaza April -- - April -...   not happy   \n",
       "2      I booked this hotel through Hotwire at the low...   not happy   \n",
       "3      Stayed here with husband and sons on the way t...       happy   \n",
       "4      My girlfriends and I stayed here to celebrate ...   not happy   \n",
       "...                                                  ...         ...   \n",
       "38927  We arrived late at night and walked in to a ch...       happy   \n",
       "38928  The only positive impression is location and p...   not happy   \n",
       "38929  Traveling with friends for shopping and a show...   not happy   \n",
       "38930  The experience was just ok. We paid extra for ...   not happy   \n",
       "38931  The Westin is a wonderfully restored grande da...       happy   \n",
       "\n",
       "                                       description_clean    neg    neu    pos  \\\n",
       "0      room kind clean strong smell dog generally ave...  0.000  0.490  0.510   \n",
       "1      stay crown plaza april april staff friendly at...  0.022  0.835  0.143   \n",
       "2      booked hotel hotwire low price could find got ...  0.076  0.771  0.153   \n",
       "3      stayed husband son way alaska cruise love hote...  0.020  0.506  0.474   \n",
       "4      girlfriend stay celebrate birthday plan weeken...  0.062  0.762  0.176   \n",
       "...                                                  ...    ...    ...    ...   \n",
       "38927  arrive late night walk check area completely f...  0.086  0.621  0.293   \n",
       "38928  positive impression location public parking op...  0.022  0.656  0.322   \n",
       "38929  travel friend shop show location great best sa...  0.113  0.707  0.181   \n",
       "38930  experience pay extra view pool get view palm t...  0.108  0.717  0.175   \n",
       "38931  westin wonderfully restore grande dame hotel b...  0.077  0.385  0.538   \n",
       "\n",
       "       compound  \n",
       "0        0.9393  \n",
       "1        0.8957  \n",
       "2        0.8860  \n",
       "3        0.9897  \n",
       "4        0.9497  \n",
       "...         ...  \n",
       "38927    0.9430  \n",
       "38928    0.9565  \n",
       "38929    0.7780  \n",
       "38930    0.5574  \n",
       "38931    0.8555  \n",
       "\n",
       "[38932 rows x 7 columns]"
      ]
     },
     "execution_count": 11,
     "metadata": {},
     "output_type": "execute_result"
    }
   ],
   "source": [
    "df_hotel_train"
   ]
  },
  {
   "cell_type": "code",
   "execution_count": 12,
   "metadata": {},
   "outputs": [],
   "source": [
    "# Add number of characters column\n",
    "df_hotel_train[\"nb_chars\"] = df_hotel_train[\"description_clean\"].apply(lambda x: len(x))\n",
    "\n",
    "# Add number of words column\n",
    "df_hotel_train[\"nb_words\"] = df_hotel_train[\"description_clean\"].apply(lambda x: len(x.split(\" \")))"
   ]
  },
  {
   "cell_type": "code",
   "execution_count": 13,
   "metadata": {},
   "outputs": [
    {
     "data": {
      "image/png": "[encoded data removed]",
      "text/plain": [
       "<Figure size 1440x1440 with 1 Axes>"
      ]
     },
     "metadata": {
      "needs_background": "light"
     },
     "output_type": "display_data"
    }
   ],
   "source": [
    "# wordcloud function\n",
    "#!pip install WordCloud\n",
    "from wordcloud import WordCloud\n",
    "import matplotlib.pyplot as plt\n",
    "\n",
    "def show_wordcloud(data, title = None):\n",
    "    wordcloud = WordCloud(\n",
    "        background_color = 'black',\n",
    "        max_words = 200,\n",
    "        max_font_size = 40, \n",
    "        scale = 3,\n",
    "        random_state = 42\n",
    "    ).generate(str(data))\n",
    "\n",
    "    fig = plt.figure(1, figsize = (20, 20))\n",
    "    plt.axis('off')\n",
    "    if title: \n",
    "        fig.suptitle(title, fontsize = 20)\n",
    "        fig.subplots_adjust(top = 2.3)\n",
    "\n",
    "    plt.imshow(wordcloud)\n",
    "    plt.show()\n",
    "    \n",
    "# print wordcloud\n",
    "show_wordcloud(df_hotel_train[\"description_clean\"])"
   ]
  },
  {
   "cell_type": "markdown",
   "metadata": {},
   "source": [
    "* Getting sense of loud words in train dataset\n",
    "* Most of the words are indeed related to the hotels: location, room, staff, etc. Some words are more related to the customer experience with the hotel stay: price, smell, wonderfully, clean,love etc"
   ]
  },
  {
   "cell_type": "code",
   "execution_count": 14,
   "metadata": {},
   "outputs": [
    {
     "data": {
      "text/html": [
       "<div>\n",
       "<style scoped>\n",
       "    .dataframe tbody tr th:only-of-type {\n",
       "        vertical-align: middle;\n",
       "    }\n",
       "\n",
       "    .dataframe tbody tr th {\n",
       "        vertical-align: top;\n",
       "    }\n",
       "\n",
       "    .dataframe thead th {\n",
       "        text-align: right;\n",
       "    }\n",
       "</style>\n",
       "<table border=\"1\" class=\"dataframe\">\n",
       "  <thead>\n",
       "    <tr style=\"text-align: right;\">\n",
       "      <th></th>\n",
       "      <th>description_clean</th>\n",
       "      <th>pos</th>\n",
       "    </tr>\n",
       "  </thead>\n",
       "  <tbody>\n",
       "    <tr>\n",
       "      <td>5568</td>\n",
       "      <td>nice clean calm friendly superb\\ncan recommend...</td>\n",
       "      <td>0.953</td>\n",
       "    </tr>\n",
       "    <tr>\n",
       "      <td>1959</td>\n",
       "      <td>well room definitely nice breakfast good yeah</td>\n",
       "      <td>0.864</td>\n",
       "    </tr>\n",
       "    <tr>\n",
       "      <td>38285</td>\n",
       "      <td>friendly helpful staff awesome room clean easy...</td>\n",
       "      <td>0.861</td>\n",
       "    </tr>\n",
       "    <tr>\n",
       "      <td>12684</td>\n",
       "      <td>staff helpful friendly room clean comfortable</td>\n",
       "      <td>0.857</td>\n",
       "    </tr>\n",
       "    <tr>\n",
       "      <td>23693</td>\n",
       "      <td>nice hotel comfortable clean enjoy stay</td>\n",
       "      <td>0.857</td>\n",
       "    </tr>\n",
       "  </tbody>\n",
       "</table>\n",
       "</div>"
      ],
      "text/plain": [
       "                                       description_clean    pos\n",
       "5568   nice clean calm friendly superb\\ncan recommend...  0.953\n",
       "1959       well room definitely nice breakfast good yeah  0.864\n",
       "38285  friendly helpful staff awesome room clean easy...  0.861\n",
       "12684      staff helpful friendly room clean comfortable  0.857\n",
       "23693            nice hotel comfortable clean enjoy stay  0.857"
      ]
     },
     "execution_count": 14,
     "metadata": {},
     "output_type": "execute_result"
    }
   ],
   "source": [
    "# Highest positive sentiment reviews (with more than 5 words)\n",
    "df_hotel_train[df_hotel_train[\"nb_words\"] >= 5].sort_values(\"pos\", ascending = False)[[\"description_clean\", \"pos\"]].head()"
   ]
  },
  {
   "cell_type": "code",
   "execution_count": 15,
   "metadata": {},
   "outputs": [
    {
     "data": {
      "text/html": [
       "<div>\n",
       "<style scoped>\n",
       "    .dataframe tbody tr th:only-of-type {\n",
       "        vertical-align: middle;\n",
       "    }\n",
       "\n",
       "    .dataframe tbody tr th {\n",
       "        vertical-align: top;\n",
       "    }\n",
       "\n",
       "    .dataframe thead th {\n",
       "        text-align: right;\n",
       "    }\n",
       "</style>\n",
       "<table border=\"1\" class=\"dataframe\">\n",
       "  <thead>\n",
       "    <tr style=\"text-align: right;\">\n",
       "      <th></th>\n",
       "      <th>description_clean</th>\n",
       "      <th>neg</th>\n",
       "    </tr>\n",
       "  </thead>\n",
       "  <tbody>\n",
       "    <tr>\n",
       "      <td>15681</td>\n",
       "      <td>stay doubt stay ramadas disappointed carpet dirty</td>\n",
       "      <td>0.680</td>\n",
       "    </tr>\n",
       "    <tr>\n",
       "      <td>32913</td>\n",
       "      <td>dirty smelly expensive awful awful awful put c...</td>\n",
       "      <td>0.634</td>\n",
       "    </tr>\n",
       "    <tr>\n",
       "      <td>19046</td>\n",
       "      <td>clean staff unprofessional upsetting awkward h...</td>\n",
       "      <td>0.630</td>\n",
       "    </tr>\n",
       "    <tr>\n",
       "      <td>23296</td>\n",
       "      <td>terrible place service bad hotel staff rude le...</td>\n",
       "      <td>0.586</td>\n",
       "    </tr>\n",
       "    <tr>\n",
       "      <td>34424</td>\n",
       "      <td>rude crew\\n clean\\n horrible bed</td>\n",
       "      <td>0.580</td>\n",
       "    </tr>\n",
       "    <tr>\n",
       "      <td>37652</td>\n",
       "      <td>complain would pay night park</td>\n",
       "      <td>0.565</td>\n",
       "    </tr>\n",
       "    <tr>\n",
       "      <td>31258</td>\n",
       "      <td>hot water room small noisy uncomfortable</td>\n",
       "      <td>0.518</td>\n",
       "    </tr>\n",
       "    <tr>\n",
       "      <td>6714</td>\n",
       "      <td>would recommend hotel bad enemy staff lack pro...</td>\n",
       "      <td>0.496</td>\n",
       "    </tr>\n",
       "    <tr>\n",
       "      <td>38739</td>\n",
       "      <td>hotel bad check horrible young girl check slow...</td>\n",
       "      <td>0.491</td>\n",
       "    </tr>\n",
       "    <tr>\n",
       "      <td>23242</td>\n",
       "      <td>beware place old dirty walk carpet sock black ...</td>\n",
       "      <td>0.488</td>\n",
       "    </tr>\n",
       "  </tbody>\n",
       "</table>\n",
       "</div>"
      ],
      "text/plain": [
       "                                       description_clean    neg\n",
       "15681  stay doubt stay ramadas disappointed carpet dirty  0.680\n",
       "32913  dirty smelly expensive awful awful awful put c...  0.634\n",
       "19046  clean staff unprofessional upsetting awkward h...  0.630\n",
       "23296  terrible place service bad hotel staff rude le...  0.586\n",
       "34424                   rude crew\\n clean\\n horrible bed  0.580\n",
       "37652                      complain would pay night park  0.565\n",
       "31258           hot water room small noisy uncomfortable  0.518\n",
       "6714   would recommend hotel bad enemy staff lack pro...  0.496\n",
       "38739  hotel bad check horrible young girl check slow...  0.491\n",
       "23242  beware place old dirty walk carpet sock black ...  0.488"
      ]
     },
     "execution_count": 15,
     "metadata": {},
     "output_type": "execute_result"
    }
   ],
   "source": [
    "# Highest negative sentiment reviews (with more than 5 words)\n",
    "df_hotel_train[df_hotel_train[\"nb_words\"] >= 5].sort_values(\"neg\", ascending = False)[[\"description_clean\", \"neg\"]].head(10)"
   ]
  },
  {
   "cell_type": "code",
   "execution_count": 16,
   "metadata": {},
   "outputs": [
    {
     "data": {
      "text/html": [
       "<div>\n",
       "<style scoped>\n",
       "    .dataframe tbody tr th:only-of-type {\n",
       "        vertical-align: middle;\n",
       "    }\n",
       "\n",
       "    .dataframe tbody tr th {\n",
       "        vertical-align: top;\n",
       "    }\n",
       "\n",
       "    .dataframe thead th {\n",
       "        text-align: right;\n",
       "    }\n",
       "</style>\n",
       "<table border=\"1\" class=\"dataframe\">\n",
       "  <thead>\n",
       "    <tr style=\"text-align: right;\">\n",
       "      <th></th>\n",
       "      <th>Description</th>\n",
       "      <th>Is_Response</th>\n",
       "      <th>description_clean</th>\n",
       "      <th>neg</th>\n",
       "      <th>neu</th>\n",
       "      <th>pos</th>\n",
       "      <th>compound</th>\n",
       "      <th>nb_chars</th>\n",
       "      <th>nb_words</th>\n",
       "    </tr>\n",
       "  </thead>\n",
       "  <tbody>\n",
       "    <tr>\n",
       "      <td>7425</td>\n",
       "      <td>I Chose this hotel mainly because of its revie...</td>\n",
       "      <td>0</td>\n",
       "      <td>chose hotel mainly review surprised super rat ...</td>\n",
       "      <td>0.023</td>\n",
       "      <td>0.589</td>\n",
       "      <td>0.387</td>\n",
       "      <td>0.9941</td>\n",
       "      <td>701</td>\n",
       "      <td>100</td>\n",
       "    </tr>\n",
       "    <tr>\n",
       "      <td>36932</td>\n",
       "      <td>This was our -th trip to NYC and I am always l...</td>\n",
       "      <td>0</td>\n",
       "      <td>trip nyc always look good deal hotel without g...</td>\n",
       "      <td>0.072</td>\n",
       "      <td>0.572</td>\n",
       "      <td>0.356</td>\n",
       "      <td>0.9857</td>\n",
       "      <td>586</td>\n",
       "      <td>92</td>\n",
       "    </tr>\n",
       "    <tr>\n",
       "      <td>25368</td>\n",
       "      <td>absolutely a wonderful place to stay with or w...</td>\n",
       "      <td>1</td>\n",
       "      <td>absolutely wonderful place stay without child ...</td>\n",
       "      <td>0.000</td>\n",
       "      <td>0.610</td>\n",
       "      <td>0.390</td>\n",
       "      <td>0.9152</td>\n",
       "      <td>175</td>\n",
       "      <td>24</td>\n",
       "    </tr>\n",
       "  </tbody>\n",
       "</table>\n",
       "</div>"
      ],
      "text/plain": [
       "                                             Description  Is_Response  \\\n",
       "7425   I Chose this hotel mainly because of its revie...            0   \n",
       "36932  This was our -th trip to NYC and I am always l...            0   \n",
       "25368  absolutely a wonderful place to stay with or w...            1   \n",
       "\n",
       "                                       description_clean    neg    neu    pos  \\\n",
       "7425   chose hotel mainly review surprised super rat ...  0.023  0.589  0.387   \n",
       "36932  trip nyc always look good deal hotel without g...  0.072  0.572  0.356   \n",
       "25368  absolutely wonderful place stay without child ...  0.000  0.610  0.390   \n",
       "\n",
       "       compound  nb_chars  nb_words  \n",
       "7425     0.9941       701       100  \n",
       "36932    0.9857       586        92  \n",
       "25368    0.9152       175        24  "
      ]
     },
     "execution_count": 16,
     "metadata": {},
     "output_type": "execute_result"
    }
   ],
   "source": [
    "# lets Map \"happy\" to 1 and \"not happy\" to 0\n",
    "df_hotel_train[\"Is_Response\"] = df_hotel_train[\"Is_Response\"].map({\"happy\": 1, \"not happy\" : 0})\n",
    "df_hotel_train.sample(3)"
   ]
  },
  {
   "cell_type": "code",
   "execution_count": 72,
   "metadata": {},
   "outputs": [
    {
     "data": {
      "image/png": "[encoded data removed]",
      "text/plain": [
       "<Figure size 432x288 with 1 Axes>"
      ]
     },
     "metadata": {},
     "output_type": "display_data"
    }
   ],
   "source": [
    "# plot sentiment distribution for positive and negative reviews\n",
    "\n",
    "import seaborn as sns\n",
    "\n",
    "for x in [0, 1]:\n",
    "    subset = df_hotel_train[df_hotel_train['Is_Response'] == x]\n",
    "    \n",
    "    # Draw the density plot\n",
    "    if x == 1:\n",
    "        label = \"Positive reviews\"\n",
    "    else:\n",
    "        label = \"negative reviews\"\n",
    "    sns.distplot(subset['compound'], hist = False, label = label)"
   ]
  },
  {
   "cell_type": "markdown",
   "metadata": {},
   "source": [
    "* The above graph shows the distribution of the reviews sentiments among positive reviews and negative ones. We can see that positive reviews are for most of them considered. On the contrary, negative reviews tend to have lower compound sentiment scores.\n"
   ]
  },
  {
   "cell_type": "code",
   "execution_count": 28,
   "metadata": {},
   "outputs": [
    {
     "data": {
      "text/plain": [
       "<38932x13399 sparse matrix of type '<class 'numpy.float64'>'\n",
       "\twith 2406216 stored elements in Compressed Sparse Row format>"
      ]
     },
     "execution_count": 28,
     "metadata": {},
     "output_type": "execute_result"
    }
   ],
   "source": [
    "# Convert text into vectors using TF-IDF\n",
    "from sklearn.feature_extraction.text import TfidfVectorizer\n",
    "tfidf = TfidfVectorizer(min_df =4)# min_df is used for removing terms that appear too infrequently\n",
    "x = tfidf.fit_transform(df_hotel_train['description_clean'])\n",
    "\n",
    "x"
   ]
  },
  {
   "cell_type": "code",
   "execution_count": 29,
   "metadata": {},
   "outputs": [
    {
     "name": "stdout",
     "output_type": "stream",
     "text": [
      "(38932, 13399)\n",
      "(38932,)\n"
     ]
    }
   ],
   "source": [
    "# checking the shape\n",
    "print(x.shape)\n",
    "\n",
    "# maing the dependent variable column\n",
    "y = df_hotel_train['Is_Response'].values\n",
    "print(y.shape)"
   ]
  },
  {
   "cell_type": "code",
   "execution_count": 30,
   "metadata": {},
   "outputs": [],
   "source": [
    "\n",
    "#        Function which will find best Random State and then calculate Maximum Accuracy Score corresponding to it\n",
    "#                                  and print accuracy score in one go.\n",
    "def max_acc_score(regr,x,y):\n",
    "    max_acc_score=0\n",
    "    final_r_state=0\n",
    "    for r_state in range(42,100):\n",
    "        x_train,x_test,y_train,y_test=train_test_split(x,y,test_size=.20,random_state=r_state,stratify=y)\n",
    "        regr.fit(x_train,y_train)\n",
    "        y_pred=regr.predict(x_test)\n",
    "        acc_score=accuracy_score(y_test,y_pred)\n",
    "        if acc_score > max_acc_score:\n",
    "            max_acc_score=acc_score\n",
    "            final_r_state=r_state\n",
    "    print('Max Accuracy Score corresponding to Random State ', final_r_state, 'is:', max_acc_score)\n",
    "    print('\\n')\n",
    "    return final_r_state"
   ]
  },
  {
   "cell_type": "code",
   "execution_count": 31,
   "metadata": {},
   "outputs": [
    {
     "name": "stdout",
     "output_type": "stream",
     "text": [
      "*************************** Random Forest *****************************\n",
      "\n",
      "\n",
      "RandomForestClassifier(bootstrap=True, ccp_alpha=0.0, class_weight=None,\n",
      "                       criterion='gini', max_depth=None, max_features='auto',\n",
      "                       max_leaf_nodes=None, max_samples=None,\n",
      "                       min_impurity_decrease=0.0, min_impurity_split=None,\n",
      "                       min_samples_leaf=1, min_samples_split=2,\n",
      "                       min_weight_fraction_leaf=0.0, n_estimators=100,\n",
      "                       n_jobs=None, oob_score=False, random_state=None,\n",
      "                       verbose=0, warm_start=False)\n",
      "\n",
      "\n",
      "Max Accuracy Score corresponding to Random State  50 is: 0.8457685886734301\n",
      "\n",
      "\n",
      "Learning Score :  1.0\n",
      "Accuracy Score :  0.8425581096699628\n",
      "Cross Val Score :  0.8914347155436596\n",
      "roc auc score :  0.7725321086564072\n",
      "\n",
      "\n",
      "Classification Report:\n",
      "               precision    recall  f1-score   support\n",
      "\n",
      "           0       0.89      0.58      0.70      2482\n",
      "           1       0.83      0.97      0.89      5305\n",
      "\n",
      "    accuracy                           0.84      7787\n",
      "   macro avg       0.86      0.77      0.80      7787\n",
      "weighted avg       0.85      0.84      0.83      7787\n",
      "\n",
      "\n",
      "\n",
      "Confusion Matrix:\n",
      " [[1438 1044]\n",
      " [ 182 5123]]\n",
      "\n",
      "\n",
      "\n",
      "\n",
      "\n",
      "*************************** GradientBoostingClassifier *****************************\n",
      "\n",
      "\n",
      "GradientBoostingClassifier(ccp_alpha=0.0, criterion='friedman_mse', init=None,\n",
      "                           learning_rate=0.1, loss='deviance', max_depth=3,\n",
      "                           max_features=None, max_leaf_nodes=None,\n",
      "                           min_impurity_decrease=0.0, min_impurity_split=None,\n",
      "                           min_samples_leaf=1, min_samples_split=2,\n",
      "                           min_weight_fraction_leaf=0.0, n_estimators=100,\n",
      "                           n_iter_no_change=None, presort='deprecated',\n",
      "                           random_state=None, subsample=1.0, tol=0.0001,\n",
      "                           validation_fraction=0.1, verbose=0,\n",
      "                           warm_start=False)\n",
      "\n",
      "\n",
      "Max Accuracy Score corresponding to Random State  42 is: 0.838320277385386\n",
      "\n",
      "\n",
      "Learning Score :  0.8443088778295071\n",
      "Accuracy Score :  0.8384486965455246\n",
      "Cross Val Score :  0.8836494109207209\n",
      "roc auc score :  0.7733752765434218\n",
      "\n",
      "\n",
      "Classification Report:\n",
      "               precision    recall  f1-score   support\n",
      "\n",
      "           0       0.85      0.59      0.70      2482\n",
      "           1       0.83      0.95      0.89      5305\n",
      "\n",
      "    accuracy                           0.84      7787\n",
      "   macro avg       0.84      0.77      0.80      7787\n",
      "weighted avg       0.84      0.84      0.83      7787\n",
      "\n",
      "\n",
      "\n",
      "Confusion Matrix:\n",
      " [[1474 1008]\n",
      " [ 250 5055]]\n",
      "\n",
      "\n",
      "\n",
      "\n",
      "\n",
      "*************************** Logistic Regression *****************************\n",
      "\n",
      "\n",
      "LogisticRegression(C=1.0, class_weight=None, dual=False, fit_intercept=True,\n",
      "                   intercept_scaling=1, l1_ratio=None, max_iter=100,\n",
      "                   multi_class='auto', n_jobs=None, penalty='l2',\n",
      "                   random_state=None, solver='lbfgs', tol=0.0001, verbose=0,\n",
      "                   warm_start=False)\n",
      "\n",
      "\n",
      "Max Accuracy Score corresponding to Random State  50 is: 0.8869911390779505\n",
      "\n",
      "\n",
      "Learning Score :  0.9041579707818269\n",
      "Accuracy Score :  0.8869911390779505\n",
      "Cross Val Score :  0.9149860920521495\n",
      "roc auc score :  0.8565987266661148\n",
      "\n",
      "\n",
      "Classification Report:\n",
      "               precision    recall  f1-score   support\n",
      "\n",
      "           0       0.86      0.77      0.81      2482\n",
      "           1       0.90      0.94      0.92      5305\n",
      "\n",
      "    accuracy                           0.89      7787\n",
      "   macro avg       0.88      0.86      0.87      7787\n",
      "weighted avg       0.89      0.89      0.89      7787\n",
      "\n",
      "\n",
      "\n",
      "Confusion Matrix:\n",
      " [[1918  564]\n",
      " [ 316 4989]]\n",
      "\n",
      "\n",
      "\n",
      "\n",
      "\n",
      "*************************** MultinomialNB *****************************\n",
      "\n",
      "\n",
      "MultinomialNB(alpha=1.0, class_prior=None, fit_prior=True)\n",
      "\n",
      "\n",
      "Max Accuracy Score corresponding to Random State  69 is: 0.8580968280467446\n",
      "\n",
      "\n",
      "Learning Score :  0.8632846363782308\n",
      "Accuracy Score :  0.8580968280467446\n",
      "Cross Val Score :  0.8998164534803339\n",
      "roc auc score :  0.7933700209842629\n",
      "\n",
      "\n",
      "Classification Report:\n",
      "               precision    recall  f1-score   support\n",
      "\n",
      "           0       0.91      0.61      0.73      2482\n",
      "           1       0.84      0.97      0.90      5305\n",
      "\n",
      "    accuracy                           0.86      7787\n",
      "   macro avg       0.88      0.79      0.82      7787\n",
      "weighted avg       0.87      0.86      0.85      7787\n",
      "\n",
      "\n",
      "\n",
      "Confusion Matrix:\n",
      " [[1526  956]\n",
      " [ 149 5156]]\n",
      "\n",
      "\n",
      "\n",
      "\n",
      "\n"
     ]
    },
    {
     "data": {
      "image/png": "[encoded data removed]",
      "text/plain": [
       "<Figure size 720x2880 with 1 Axes>"
      ]
     },
     "metadata": {
      "needs_background": "light"
     },
     "output_type": "display_data"
    },
    {
     "data": {
      "image/png": "[encoded data removed]",
      "text/plain": [
       "<Figure size 720x2880 with 1 Axes>"
      ]
     },
     "metadata": {
      "needs_background": "light"
     },
     "output_type": "display_data"
    },
    {
     "data": {
      "image/png": "[encoded data removed]",
      "text/plain": [
       "<Figure size 720x2880 with 1 Axes>"
      ]
     },
     "metadata": {
      "needs_background": "light"
     },
     "output_type": "display_data"
    },
    {
     "data": {
      "image/png": "[encoded data removed]",
      "text/plain": [
       "<Figure size 720x2880 with 1 Axes>"
      ]
     },
     "metadata": {
      "needs_background": "light"
     },
     "output_type": "display_data"
    }
   ],
   "source": [
    "#Lists to store model name, Accuracy score, cross_val_score, Auc Roc score \n",
    "models =[]\n",
    "models.append((\"Random Forest\",RandomForestClassifier()))\n",
    "models.append((\"GradientBoostingClassifier\",GradientBoostingClassifier()))    \n",
    "models.append((\"Logistic Regression\",LogisticRegression()))\n",
    "models.append(('MultinomialNB',MultinomialNB()))\n",
    "\n",
    "#     Lists to store model name, Learning score, Accuracy score, cross_val_score, Auc Roc score .\n",
    "Model=[]\n",
    "Score=[]\n",
    "Acc_score=[]\n",
    "cvs=[]\n",
    "rocscore=[]\n",
    "#            For Loop to Calculate Accuracy Score, Cross Val Score, Classification Report, Confusion Matrix\n",
    "\n",
    "for name,model in models:\n",
    "    print('***************************',name,'*****************************')\n",
    "    print('\\n')\n",
    "    Model.append(name)\n",
    "    print(model)\n",
    "    print('\\n')\n",
    "    \n",
    "     #        Now here I am calling a function which will calculate the max accuracy score for each model \n",
    "     #                               and return best random state.\n",
    "    r_state=max_acc_score(model,x,y)\n",
    "    x_train,x_test,y_train,y_test=train_test_split(x,y,test_size=0.20,random_state=r_state,stratify=y)\n",
    "    model.fit(x_train,y_train)\n",
    "#..............Learning Score...........\n",
    "    score=model.score(x_train,y_train)\n",
    "    print('Learning Score : ',score)\n",
    "    Score.append(score*100)\n",
    "    y_pred=model.predict(x_test)\n",
    "    acc_score=accuracy_score(y_test,y_pred)\n",
    "    print('Accuracy Score : ',acc_score)\n",
    "    Acc_score.append(acc_score*100)\n",
    "#................Finding Cross_val_score..................    \n",
    "    cv_score=cross_val_score(model,x,y,cv=10,scoring='f1').mean()\n",
    "    print('Cross Val Score : ', cv_score)\n",
    "    cvs.append(cv_score*100)\n",
    "    \n",
    "#................Roc auc score...........................    \n",
    "    false_positive_rate,true_positive_rate, thresholds=roc_curve(y_test,y_pred)\n",
    "    roc_auc=auc(false_positive_rate, true_positive_rate)\n",
    "    print('roc auc score : ', roc_auc)\n",
    "    rocscore.append(roc_auc*100)\n",
    "    print('\\n')\n",
    "    print('Classification Report:\\n',classification_report(y_test,y_pred))\n",
    "    print('\\n')\n",
    "    print('Confusion Matrix:\\n',confusion_matrix(y_test,y_pred))\n",
    "    print('\\n')\n",
    "    plt.figure(figsize=(10,40))\n",
    "    plt.subplot(911)\n",
    "    plt.title(name)\n",
    "    plt.plot(false_positive_rate,true_positive_rate,label='AUC = %0.2f'% roc_auc)\n",
    "    plt.plot([0,1],[0,1],'r--')\n",
    "    plt.legend(loc='lower right')\n",
    "    plt.ylabel('True_positive_rate')\n",
    "    plt.xlabel('False_positive_rate')\n",
    "    print('\\n\\n')"
   ]
  },
  {
   "cell_type": "code",
   "execution_count": 32,
   "metadata": {},
   "outputs": [
    {
     "data": {
      "text/html": [
       "<style  type=\"text/css\" >\n",
       "    #T_5988eab0_ee97_11ea_a83e_04ed33030da3row0_col1 {\n",
       "            background-color:  #081d58;\n",
       "            color:  #f1f1f1;\n",
       "        }    #T_5988eab0_ee97_11ea_a83e_04ed33030da3row0_col2 {\n",
       "            background-color:  #f3fabf;\n",
       "            color:  #000000;\n",
       "        }    #T_5988eab0_ee97_11ea_a83e_04ed33030da3row0_col3 {\n",
       "            background-color:  #c8e9b4;\n",
       "            color:  #000000;\n",
       "        }    #T_5988eab0_ee97_11ea_a83e_04ed33030da3row0_col4 {\n",
       "            background-color:  #ffffd9;\n",
       "            color:  #000000;\n",
       "        }    #T_5988eab0_ee97_11ea_a83e_04ed33030da3row1_col1 {\n",
       "            background-color:  #ffffd9;\n",
       "            color:  #000000;\n",
       "        }    #T_5988eab0_ee97_11ea_a83e_04ed33030da3row1_col2 {\n",
       "            background-color:  #ffffd9;\n",
       "            color:  #000000;\n",
       "        }    #T_5988eab0_ee97_11ea_a83e_04ed33030da3row1_col3 {\n",
       "            background-color:  #ffffd9;\n",
       "            color:  #000000;\n",
       "        }    #T_5988eab0_ee97_11ea_a83e_04ed33030da3row1_col4 {\n",
       "            background-color:  #feffd6;\n",
       "            color:  #000000;\n",
       "        }    #T_5988eab0_ee97_11ea_a83e_04ed33030da3row2_col1 {\n",
       "            background-color:  #7acbbc;\n",
       "            color:  #000000;\n",
       "        }    #T_5988eab0_ee97_11ea_a83e_04ed33030da3row2_col2 {\n",
       "            background-color:  #081d58;\n",
       "            color:  #f1f1f1;\n",
       "        }    #T_5988eab0_ee97_11ea_a83e_04ed33030da3row2_col3 {\n",
       "            background-color:  #081d58;\n",
       "            color:  #f1f1f1;\n",
       "        }    #T_5988eab0_ee97_11ea_a83e_04ed33030da3row2_col4 {\n",
       "            background-color:  #081d58;\n",
       "            color:  #f1f1f1;\n",
       "        }    #T_5988eab0_ee97_11ea_a83e_04ed33030da3row3_col1 {\n",
       "            background-color:  #edf8b2;\n",
       "            color:  #000000;\n",
       "        }    #T_5988eab0_ee97_11ea_a83e_04ed33030da3row3_col2 {\n",
       "            background-color:  #71c8bd;\n",
       "            color:  #000000;\n",
       "        }    #T_5988eab0_ee97_11ea_a83e_04ed33030da3row3_col3 {\n",
       "            background-color:  #3cb1c3;\n",
       "            color:  #000000;\n",
       "        }    #T_5988eab0_ee97_11ea_a83e_04ed33030da3row3_col4 {\n",
       "            background-color:  #c8e9b4;\n",
       "            color:  #000000;\n",
       "        }</style><table id=\"T_5988eab0_ee97_11ea_a83e_04ed33030da3\" ><thead>    <tr>        <th class=\"blank level0\" ></th>        <th class=\"col_heading level0 col0\" >Model</th>        <th class=\"col_heading level0 col1\" >Learning Score</th>        <th class=\"col_heading level0 col2\" >Accuracy Score</th>        <th class=\"col_heading level0 col3\" >Cross Val Score</th>        <th class=\"col_heading level0 col4\" >Roc_Auc_curve</th>    </tr></thead><tbody>\n",
       "                <tr>\n",
       "                        <th id=\"T_5988eab0_ee97_11ea_a83e_04ed33030da3level0_row0\" class=\"row_heading level0 row0\" >0</th>\n",
       "                        <td id=\"T_5988eab0_ee97_11ea_a83e_04ed33030da3row0_col0\" class=\"data row0 col0\" >Random Forest</td>\n",
       "                        <td id=\"T_5988eab0_ee97_11ea_a83e_04ed33030da3row0_col1\" class=\"data row0 col1\" >100</td>\n",
       "                        <td id=\"T_5988eab0_ee97_11ea_a83e_04ed33030da3row0_col2\" class=\"data row0 col2\" >84.2558</td>\n",
       "                        <td id=\"T_5988eab0_ee97_11ea_a83e_04ed33030da3row0_col3\" class=\"data row0 col3\" >89.1435</td>\n",
       "                        <td id=\"T_5988eab0_ee97_11ea_a83e_04ed33030da3row0_col4\" class=\"data row0 col4\" >77.2532</td>\n",
       "            </tr>\n",
       "            <tr>\n",
       "                        <th id=\"T_5988eab0_ee97_11ea_a83e_04ed33030da3level0_row1\" class=\"row_heading level0 row1\" >1</th>\n",
       "                        <td id=\"T_5988eab0_ee97_11ea_a83e_04ed33030da3row1_col0\" class=\"data row1 col0\" >GradientBoostingClassifier</td>\n",
       "                        <td id=\"T_5988eab0_ee97_11ea_a83e_04ed33030da3row1_col1\" class=\"data row1 col1\" >84.4309</td>\n",
       "                        <td id=\"T_5988eab0_ee97_11ea_a83e_04ed33030da3row1_col2\" class=\"data row1 col2\" >83.8449</td>\n",
       "                        <td id=\"T_5988eab0_ee97_11ea_a83e_04ed33030da3row1_col3\" class=\"data row1 col3\" >88.3649</td>\n",
       "                        <td id=\"T_5988eab0_ee97_11ea_a83e_04ed33030da3row1_col4\" class=\"data row1 col4\" >77.3375</td>\n",
       "            </tr>\n",
       "            <tr>\n",
       "                        <th id=\"T_5988eab0_ee97_11ea_a83e_04ed33030da3level0_row2\" class=\"row_heading level0 row2\" >2</th>\n",
       "                        <td id=\"T_5988eab0_ee97_11ea_a83e_04ed33030da3row2_col0\" class=\"data row2 col0\" >Logistic Regression</td>\n",
       "                        <td id=\"T_5988eab0_ee97_11ea_a83e_04ed33030da3row2_col1\" class=\"data row2 col1\" >90.4158</td>\n",
       "                        <td id=\"T_5988eab0_ee97_11ea_a83e_04ed33030da3row2_col2\" class=\"data row2 col2\" >88.6991</td>\n",
       "                        <td id=\"T_5988eab0_ee97_11ea_a83e_04ed33030da3row2_col3\" class=\"data row2 col3\" >91.4986</td>\n",
       "                        <td id=\"T_5988eab0_ee97_11ea_a83e_04ed33030da3row2_col4\" class=\"data row2 col4\" >85.6599</td>\n",
       "            </tr>\n",
       "            <tr>\n",
       "                        <th id=\"T_5988eab0_ee97_11ea_a83e_04ed33030da3level0_row3\" class=\"row_heading level0 row3\" >3</th>\n",
       "                        <td id=\"T_5988eab0_ee97_11ea_a83e_04ed33030da3row3_col0\" class=\"data row3 col0\" >MultinomialNB</td>\n",
       "                        <td id=\"T_5988eab0_ee97_11ea_a83e_04ed33030da3row3_col1\" class=\"data row3 col1\" >86.3285</td>\n",
       "                        <td id=\"T_5988eab0_ee97_11ea_a83e_04ed33030da3row3_col2\" class=\"data row3 col2\" >85.8097</td>\n",
       "                        <td id=\"T_5988eab0_ee97_11ea_a83e_04ed33030da3row3_col3\" class=\"data row3 col3\" >89.9816</td>\n",
       "                        <td id=\"T_5988eab0_ee97_11ea_a83e_04ed33030da3row3_col4\" class=\"data row3 col4\" >79.337</td>\n",
       "            </tr>\n",
       "    </tbody></table>"
      ],
      "text/plain": [
       "<pandas.io.formats.style.Styler at 0x18b0c2a55c8>"
      ]
     },
     "execution_count": 32,
     "metadata": {},
     "output_type": "execute_result"
    }
   ],
   "source": [
    "# Making a Dataframe comprises of Differnt Calculated Scores :\n",
    "result=pd.DataFrame({'Model': Model,'Learning Score': Score,'Accuracy Score': Acc_score,'Cross Val Score':cvs,\n",
    "                     'Roc_Auc_curve':rocscore}) \n",
    "result.style.background_gradient(cmap='YlGnBu')"
   ]
  },
  {
   "cell_type": "markdown",
   "metadata": {},
   "source": [
    "* From above results we can say Logistic Regression and MultinomialNB performing well .Lets tune a models with GridRearchCV "
   ]
  },
  {
   "cell_type": "code",
   "execution_count": 33,
   "metadata": {},
   "outputs": [],
   "source": [
    "#Define a function to calculate accuracy,precision,recall and f1 score\n",
    "def evaluate_preds(y_true, y_preds):\n",
    "    \"\"\"\n",
    "    Performs evaluation comparison on y_true labels vs. y_pred labels.\n",
    "    \"\"\"\n",
    "    accuracy = accuracy_score(y_true, y_preds)\n",
    "    precision = precision_score(y_true, y_preds)\n",
    "    recall = recall_score(y_true, y_preds)\n",
    "    f1 = f1_score(y_true, y_preds)\n",
    "    metric_dict = {\"accuracy\": round(accuracy, 2),\n",
    "                   \"precision\": round(precision, 2), \n",
    "                   \"recall\": round(recall, 2),\n",
    "                   \"f1\": round(f1, 2)}\n",
    "    print(f\"Acc: {accuracy * 100:.2f}%\")\n",
    "    print(f\"Precision: {precision:.2f}\")\n",
    "    print(f\"Recall: {recall:.2f}\")\n",
    "    print(f\"F1 score: {f1:.2f}\")\n",
    "\n",
    "    return metric_dict"
   ]
  },
  {
   "cell_type": "markdown",
   "metadata": {},
   "source": [
    "## Tuning a model with GridSearchCV"
   ]
  },
  {
   "cell_type": "code",
   "execution_count": 34,
   "metadata": {},
   "outputs": [],
   "source": [
    "# Function for GridSearch\n",
    "from sklearn.model_selection import GridSearchCV\n",
    "def grid_cv(mod,parameters,scoring):\n",
    "    clf = GridSearchCV(mod,parameters,scoring, cv=5,verbose=1,refit=True,n_jobs=-1)\n",
    "    clf.fit(x,y)\n",
    "    print(clf.best_params_)\n",
    "    print(clf.best_score_)"
   ]
  },
  {
   "cell_type": "code",
   "execution_count": 35,
   "metadata": {},
   "outputs": [
    {
     "name": "stdout",
     "output_type": "stream",
     "text": [
      "Fitting 5 folds for each of 40 candidates, totalling 200 fits\n"
     ]
    },
    {
     "name": "stderr",
     "output_type": "stream",
     "text": [
      "[Parallel(n_jobs=-1)]: Using backend LokyBackend with 12 concurrent workers.\n",
      "[Parallel(n_jobs=-1)]: Done  26 tasks      | elapsed:    4.5s\n",
      "[Parallel(n_jobs=-1)]: Done 176 tasks      | elapsed:  1.3min\n",
      "[Parallel(n_jobs=-1)]: Done 200 out of 200 | elapsed:  1.9min finished\n"
     ]
    },
    {
     "name": "stdout",
     "output_type": "stream",
     "text": [
      "{'C': 1.623776739188721, 'penalty': 'l2', 'solver': 'liblinear'}\n",
      "0.9138873093709838\n"
     ]
    }
   ],
   "source": [
    "#.........Grid Search for LogisticRegression......\n",
    "lg=LogisticRegression()\n",
    "parameters={\"C\": np.logspace(-4, 4, 20),\"solver\": [\"liblinear\"],'penalty' : ['l1', 'l2']}\n",
    "grid_cv(lg,parameters,'f1')"
   ]
  },
  {
   "cell_type": "code",
   "execution_count": 52,
   "metadata": {},
   "outputs": [
    {
     "name": "stdout",
     "output_type": "stream",
     "text": [
      "Max Accuracy Score corresponding to Random State  98 is: 0.8855785283164248\n",
      "\n",
      "\n"
     ]
    },
    {
     "data": {
      "text/plain": [
       "98"
      ]
     },
     "execution_count": 52,
     "metadata": {},
     "output_type": "execute_result"
    }
   ],
   "source": [
    "#checking accuracy score using best parameters which calculated from gridsearchCV\n",
    "clfl = LogisticRegression(C= 1.623776739188721, solver='liblinear',penalty= 'l2')\n",
    "max_acc_score(clfl,x,y)"
   ]
  },
  {
   "cell_type": "code",
   "execution_count": 36,
   "metadata": {},
   "outputs": [
    {
     "name": "stdout",
     "output_type": "stream",
     "text": [
      "Fitting 5 folds for each of 6 candidates, totalling 30 fits\n"
     ]
    },
    {
     "name": "stderr",
     "output_type": "stream",
     "text": [
      "[Parallel(n_jobs=-1)]: Using backend LokyBackend with 12 concurrent workers.\n",
      "[Parallel(n_jobs=-1)]: Done   7 out of  30 | elapsed:    0.1s remaining:    0.6s\n"
     ]
    },
    {
     "name": "stdout",
     "output_type": "stream",
     "text": [
      "{'alpha': 0.1}\n",
      "0.9022101147470961\n"
     ]
    },
    {
     "name": "stderr",
     "output_type": "stream",
     "text": [
      "[Parallel(n_jobs=-1)]: Done  30 out of  30 | elapsed:    0.5s finished\n"
     ]
    }
   ],
   "source": [
    "#.........Grid Search for MultinomialNB......\n",
    "mnb=MultinomialNB()\n",
    "parameters = {  \n",
    "'alpha': (1, 0.1, 0.01, 0.001, 0.0001, 0.00001)  \n",
    "}  \n",
    "grid_cv(mnb,parameters,'f1')\n"
   ]
  },
  {
   "cell_type": "code",
   "execution_count": 42,
   "metadata": {},
   "outputs": [
    {
     "name": "stdout",
     "output_type": "stream",
     "text": [
      "Max Accuracy Score corresponding to Random State  51 is: 0.8659303968152048\n",
      "\n",
      "\n"
     ]
    },
    {
     "data": {
      "text/plain": [
       "51"
      ]
     },
     "execution_count": 42,
     "metadata": {},
     "output_type": "execute_result"
    }
   ],
   "source": [
    "#checking accuracy score using best parameters which calculated from gridsearchCV\n",
    "clfR = MultinomialNB(alpha=0.1)\n",
    "max_acc_score(clfR,x,y)"
   ]
  },
  {
   "cell_type": "markdown",
   "metadata": {},
   "source": [
    "## Cross Validation  with best parameters using GridSearchCV"
   ]
  },
  {
   "cell_type": "code",
   "execution_count": 44,
   "metadata": {},
   "outputs": [
    {
     "data": {
      "text/plain": [
       "0.9022101147470961"
      ]
     },
     "execution_count": 44,
     "metadata": {},
     "output_type": "execute_result"
    }
   ],
   "source": [
    "# Cross-validated F1 score \n",
    "cv_MultinomialNB = np.mean(cross_val_score(clfR,\n",
    "                                x,\n",
    "                                y,\n",
    "                                cv=5, # 5-fold cross-validation\n",
    "                                scoring=\"f1\")) # f1 as scoring\n",
    "cv_MultinomialNB"
   ]
  },
  {
   "cell_type": "code",
   "execution_count": 47,
   "metadata": {},
   "outputs": [
    {
     "data": {
      "text/plain": [
       "0.9138873093709838"
      ]
     },
     "execution_count": 47,
     "metadata": {},
     "output_type": "execute_result"
    }
   ],
   "source": [
    "cv_LogisticRegression = np.mean(cross_val_score(clfl,\n",
    "                                x,\n",
    "                                y,\n",
    "                                cv=5, # 5-fold cross-validation\n",
    "                                scoring=\"f1\")) # f1 as scoring\n",
    "cv_LogisticRegression"
   ]
  },
  {
   "cell_type": "markdown",
   "metadata": {},
   "source": [
    "## train_test_split  with best parameters using GridSearchCV"
   ]
  },
  {
   "cell_type": "code",
   "execution_count": 55,
   "metadata": {},
   "outputs": [
    {
     "name": "stdout",
     "output_type": "stream",
     "text": [
      "Acc: 88.56%\n",
      "Precision: 0.90\n",
      "Recall: 0.94\n",
      "F1 score: 0.92\n"
     ]
    },
    {
     "data": {
      "text/plain": [
       "{'accuracy': 0.89, 'precision': 0.9, 'recall': 0.94, 'f1': 0.92}"
      ]
     },
     "execution_count": 55,
     "metadata": {},
     "output_type": "execute_result"
    }
   ],
   "source": [
    "#lets make our LogisticRegression as final model\n",
    "x_train,x_test,y_train,y_test=train_test_split(x, y,random_state = 98,test_size=0.20,stratify=y)\n",
    "lg = LogisticRegression(C= 1.623776739188721, solver='liblinear',penalty= 'l2')\n",
    "lg.fit(x_train,y_train)\n",
    "predlg=lg.predict(x_test)\n",
    "evaluate_preds(y_test,predlg)"
   ]
  },
  {
   "cell_type": "code",
   "execution_count": 54,
   "metadata": {},
   "outputs": [
    {
     "name": "stdout",
     "output_type": "stream",
     "text": [
      "Acc: 86.59%\n",
      "Precision: 0.87\n",
      "Recall: 0.95\n",
      "F1 score: 0.91\n"
     ]
    },
    {
     "data": {
      "text/plain": [
       "{'accuracy': 0.87, 'precision': 0.87, 'recall': 0.95, 'f1': 0.91}"
      ]
     },
     "execution_count": 54,
     "metadata": {},
     "output_type": "execute_result"
    }
   ],
   "source": [
    "#lets make our MultinomialNB as final model\n",
    "x_train,x_test,y_train,y_test=train_test_split(x, y,random_state = 51,test_size=0.20,stratify=y)\n",
    "mnb = MultinomialNB(alpha=0.1)\n",
    "mnb.fit(x_train,y_train)\n",
    "predmnb=mnb.predict(x_test)\n",
    "evaluate_preds(y_test,predmnb)"
   ]
  },
  {
   "cell_type": "markdown",
   "metadata": {},
   "source": [
    "* From above results we can conclude that with train_test_test getting better results as compared to cross validation."
   ]
  },
  {
   "cell_type": "code",
   "execution_count": 50,
   "metadata": {},
   "outputs": [
    {
     "data": {
      "image/png": "[encoded data removed]",
      "text/plain": [
       "<Figure size 432x288 with 1 Axes>"
      ]
     },
     "metadata": {
      "needs_background": "light"
     },
     "output_type": "display_data"
    },
    {
     "name": "stdout",
     "output_type": "stream",
     "text": [
      "roc_auc_score =  0.9459265239412745\n"
     ]
    }
   ],
   "source": [
    "# Make predictions with probabilities\n",
    "y_probs = lg.predict_proba(x_test)\n",
    "\n",
    "# Keep the probabilites of the positive class only\n",
    "y_probs = y_probs[:, 1]\n",
    "\n",
    "# Calculate fpr, tpr and thresholds\n",
    "fpr, tpr, thresholds = roc_curve(y_test, y_probs)\n",
    "\n",
    "# Check the false positive rate\n",
    "fpr\n",
    "plt.plot([0,1],[0,1])\n",
    "plt.plot(fpr,tpr,label='LogisticRegression')\n",
    "plt.xlabel('false positive rate')\n",
    "plt.ylabel('True positive rate')\n",
    "plt.title('LogisticRegression')\n",
    "plt.show()\n",
    "print('roc_auc_score = ',roc_auc_score(y_test, y_probs))"
   ]
  },
  {
   "cell_type": "code",
   "execution_count": 51,
   "metadata": {},
   "outputs": [
    {
     "data": {
      "image/png": "[encoded data removed]",
      "text/plain": [
       "<Figure size 432x288 with 1 Axes>"
      ]
     },
     "metadata": {
      "needs_background": "light"
     },
     "output_type": "display_data"
    },
    {
     "name": "stdout",
     "output_type": "stream",
     "text": [
      "roc_auc_score =  0.9293833603832609\n"
     ]
    }
   ],
   "source": [
    "# Make predictions with probabilities\n",
    "y_probs = mnb.predict_proba(x_test)\n",
    "\n",
    "# Keep the probabilites of the positive class only\n",
    "y_probs = y_probs[:, 1]\n",
    "\n",
    "# Calculate fpr, tpr and thresholds\n",
    "fpr, tpr, thresholds = roc_curve(y_test, y_probs)\n",
    "\n",
    "# Check the false positive rate\n",
    "fpr\n",
    "plt.plot([0,1],[0,1])\n",
    "plt.plot(fpr,tpr,label='LogisticRegression')\n",
    "plt.xlabel('false positive rate')\n",
    "plt.ylabel('True positive rate')\n",
    "plt.title('MultinomialNB')\n",
    "plt.show()\n",
    "print('roc_auc_score = ',roc_auc_score(y_test, y_probs))"
   ]
  },
  {
   "cell_type": "markdown",
   "metadata": {},
   "source": [
    "# From above results we can conclude that Logistic Regression performing well as compared to other models considering below results :\n",
    "\n",
    ">> * Accuracy Score: 88.56%\n",
    ">> * Precision: 0.90\n",
    ">> * Recall: 0.94\n",
    ">> * F1 score: 0.92\n",
    ">> * roc_auc_score : 0.92"
   ]
  },
  {
   "cell_type": "code",
   "execution_count": 59,
   "metadata": {},
   "outputs": [
    {
     "name": "stdout",
     "output_type": "stream",
     "text": [
      "[[1913  569]\n",
      " [ 322 4983]]\n"
     ]
    },
    {
     "data": {
      "image/png": "[encoded data removed]",
      "text/plain": [
       "<Figure size 216x216 with 1 Axes>"
      ]
     },
     "metadata": {},
     "output_type": "display_data"
    }
   ],
   "source": [
    "sns.set(font_scale=1.5)\n",
    "\n",
    "def plot_conf_mat(y_test, predlg):\n",
    "    \"\"\"\n",
    "    Plots a nice looking confusion matrix using Seaborn's heatmap()\n",
    "    \"\"\"\n",
    "    fig, ax = plt.subplots(figsize=(3, 3))\n",
    "    ax = sns.heatmap(confusion_matrix(y_test, predlg),\n",
    "                     annot=True,\n",
    "                     cbar=False)\n",
    "    plt.xlabel(\"Test label\")\n",
    "    plt.ylabel(\"Predicted label\")\n",
    "    \n",
    "    bottom, top = ax.get_ylim()\n",
    "    ax.set_ylim(bottom + 0.5, top - 0.5)\n",
    "    \n",
    "plot_conf_mat(y_test, predlg)\n",
    "#lets printed confusion_matrix\n",
    "print(confusion_matrix(y_test, predlg))"
   ]
  },
  {
   "cell_type": "code",
   "execution_count": 60,
   "metadata": {},
   "outputs": [
    {
     "data": {
      "text/html": [
       "<div>\n",
       "<style scoped>\n",
       "    .dataframe tbody tr th:only-of-type {\n",
       "        vertical-align: middle;\n",
       "    }\n",
       "\n",
       "    .dataframe tbody tr th {\n",
       "        vertical-align: top;\n",
       "    }\n",
       "\n",
       "    .dataframe thead th {\n",
       "        text-align: right;\n",
       "    }\n",
       "</style>\n",
       "<table border=\"1\" class=\"dataframe\">\n",
       "  <thead>\n",
       "    <tr style=\"text-align: right;\">\n",
       "      <th></th>\n",
       "      <th>0</th>\n",
       "      <th>Predicted values</th>\n",
       "    </tr>\n",
       "  </thead>\n",
       "  <tbody>\n",
       "    <tr>\n",
       "      <td>0</td>\n",
       "      <td>1</td>\n",
       "      <td>1</td>\n",
       "    </tr>\n",
       "    <tr>\n",
       "      <td>1</td>\n",
       "      <td>1</td>\n",
       "      <td>1</td>\n",
       "    </tr>\n",
       "    <tr>\n",
       "      <td>2</td>\n",
       "      <td>0</td>\n",
       "      <td>0</td>\n",
       "    </tr>\n",
       "    <tr>\n",
       "      <td>3</td>\n",
       "      <td>0</td>\n",
       "      <td>0</td>\n",
       "    </tr>\n",
       "    <tr>\n",
       "      <td>4</td>\n",
       "      <td>0</td>\n",
       "      <td>0</td>\n",
       "    </tr>\n",
       "    <tr>\n",
       "      <td>...</td>\n",
       "      <td>...</td>\n",
       "      <td>...</td>\n",
       "    </tr>\n",
       "    <tr>\n",
       "      <td>7782</td>\n",
       "      <td>0</td>\n",
       "      <td>0</td>\n",
       "    </tr>\n",
       "    <tr>\n",
       "      <td>7783</td>\n",
       "      <td>1</td>\n",
       "      <td>1</td>\n",
       "    </tr>\n",
       "    <tr>\n",
       "      <td>7784</td>\n",
       "      <td>1</td>\n",
       "      <td>1</td>\n",
       "    </tr>\n",
       "    <tr>\n",
       "      <td>7785</td>\n",
       "      <td>1</td>\n",
       "      <td>1</td>\n",
       "    </tr>\n",
       "    <tr>\n",
       "      <td>7786</td>\n",
       "      <td>1</td>\n",
       "      <td>1</td>\n",
       "    </tr>\n",
       "  </tbody>\n",
       "</table>\n",
       "<p>7787 rows × 2 columns</p>\n",
       "</div>"
      ],
      "text/plain": [
       "      0  Predicted values\n",
       "0     1                 1\n",
       "1     1                 1\n",
       "2     0                 0\n",
       "3     0                 0\n",
       "4     0                 0\n",
       "...  ..               ...\n",
       "7782  0                 0\n",
       "7783  1                 1\n",
       "7784  1                 1\n",
       "7785  1                 1\n",
       "7786  1                 1\n",
       "\n",
       "[7787 rows x 2 columns]"
      ]
     },
     "execution_count": 60,
     "metadata": {},
     "output_type": "execute_result"
    }
   ],
   "source": [
    "# Printing predicted values \n",
    "test=pd.DataFrame(data=y_test,)\n",
    "test['Predicted values']=predlg\n",
    "test\n",
    "# On the lest side values are those fields which are taken by machine for test..."
   ]
  },
  {
   "cell_type": "code",
   "execution_count": 121,
   "metadata": {},
   "outputs": [
    {
     "data": {
      "text/plain": [
       "['Project1_hotel_reviews.pkl']"
      ]
     },
     "execution_count": 121,
     "metadata": {},
     "output_type": "execute_result"
    }
   ],
   "source": [
    "#lets save the model using joblib\n",
    "from sklearn.externals import joblib\n",
    "joblib.dump(lg,'Project1_hotel_reviews.pkl')"
   ]
  },
  {
   "cell_type": "code",
   "execution_count": 122,
   "metadata": {},
   "outputs": [
    {
     "name": "stdout",
     "output_type": "stream",
     "text": [
      "Acc: 88.56%\n",
      "Precision: 0.90\n",
      "Recall: 0.94\n",
      "F1 score: 0.92\n"
     ]
    },
    {
     "data": {
      "text/plain": [
       "{'accuracy': 0.89, 'precision': 0.9, 'recall': 0.94, 'f1': 0.92}"
      ]
     },
     "execution_count": 122,
     "metadata": {},
     "output_type": "execute_result"
    }
   ],
   "source": [
    "#read the file using joblib\n",
    "lg_from_joblib=joblib.load('Project1_hotel_reviews.pkl')\n",
    "joblib_y_preds = lg_from_joblib.predict(x_test)\n",
    "evaluate_preds(y_test, joblib_y_preds)"
   ]
  },
  {
   "cell_type": "markdown",
   "metadata": {},
   "source": [
    "## Lets Predict Test Data Set\n"
   ]
  },
  {
   "cell_type": "code",
   "execution_count": 89,
   "metadata": {},
   "outputs": [
    {
     "data": {
      "text/html": [
       "<div>\n",
       "<style scoped>\n",
       "    .dataframe tbody tr th:only-of-type {\n",
       "        vertical-align: middle;\n",
       "    }\n",
       "\n",
       "    .dataframe tbody tr th {\n",
       "        vertical-align: top;\n",
       "    }\n",
       "\n",
       "    .dataframe thead th {\n",
       "        text-align: right;\n",
       "    }\n",
       "</style>\n",
       "<table border=\"1\" class=\"dataframe\">\n",
       "  <thead>\n",
       "    <tr style=\"text-align: right;\">\n",
       "      <th></th>\n",
       "      <th>User_ID</th>\n",
       "      <th>Description</th>\n",
       "      <th>Browser_Used</th>\n",
       "      <th>Device_Used</th>\n",
       "    </tr>\n",
       "  </thead>\n",
       "  <tbody>\n",
       "    <tr>\n",
       "      <td>0</td>\n",
       "      <td>id80132</td>\n",
       "      <td>Looking for a motel in close proximity to TV t...</td>\n",
       "      <td>Firefox</td>\n",
       "      <td>Mobile</td>\n",
       "    </tr>\n",
       "    <tr>\n",
       "      <td>1</td>\n",
       "      <td>id80133</td>\n",
       "      <td>Walking distance to Madison Square Garden and ...</td>\n",
       "      <td>InternetExplorer</td>\n",
       "      <td>Desktop</td>\n",
       "    </tr>\n",
       "    <tr>\n",
       "      <td>2</td>\n",
       "      <td>id80134</td>\n",
       "      <td>Visited Seattle on business. Spent - nights in...</td>\n",
       "      <td>IE</td>\n",
       "      <td>Tablet</td>\n",
       "    </tr>\n",
       "    <tr>\n",
       "      <td>3</td>\n",
       "      <td>id80135</td>\n",
       "      <td>This hotel location is excellent and the rooms...</td>\n",
       "      <td>Edge</td>\n",
       "      <td>Mobile</td>\n",
       "    </tr>\n",
       "    <tr>\n",
       "      <td>4</td>\n",
       "      <td>id80136</td>\n",
       "      <td>This hotel is awesome I love the service Antho...</td>\n",
       "      <td>Mozilla</td>\n",
       "      <td>Mobile</td>\n",
       "    </tr>\n",
       "    <tr>\n",
       "      <td>...</td>\n",
       "      <td>...</td>\n",
       "      <td>...</td>\n",
       "      <td>...</td>\n",
       "      <td>...</td>\n",
       "    </tr>\n",
       "    <tr>\n",
       "      <td>29399</td>\n",
       "      <td>id109531</td>\n",
       "      <td>I stayed at the hotel and towers for a confere...</td>\n",
       "      <td>Chrome</td>\n",
       "      <td>Mobile</td>\n",
       "    </tr>\n",
       "    <tr>\n",
       "      <td>29400</td>\n",
       "      <td>id109532</td>\n",
       "      <td>Trying to stay within the Marriott family and ...</td>\n",
       "      <td>Internet Explorer</td>\n",
       "      <td>Tablet</td>\n",
       "    </tr>\n",
       "    <tr>\n",
       "      <td>29401</td>\n",
       "      <td>id109533</td>\n",
       "      <td>We stayed for - nights with our little dog,ver...</td>\n",
       "      <td>Edge</td>\n",
       "      <td>Desktop</td>\n",
       "    </tr>\n",
       "    <tr>\n",
       "      <td>29402</td>\n",
       "      <td>id109534</td>\n",
       "      <td>Stayed at the Yotel over the weekend and was v...</td>\n",
       "      <td>InternetExplorer</td>\n",
       "      <td>Desktop</td>\n",
       "    </tr>\n",
       "    <tr>\n",
       "      <td>29403</td>\n",
       "      <td>id109535</td>\n",
       "      <td>The Blakely is is comfortable is every way: th...</td>\n",
       "      <td>Mozilla Firefox</td>\n",
       "      <td>Mobile</td>\n",
       "    </tr>\n",
       "  </tbody>\n",
       "</table>\n",
       "<p>29404 rows × 4 columns</p>\n",
       "</div>"
      ],
      "text/plain": [
       "        User_ID                                        Description  \\\n",
       "0       id80132  Looking for a motel in close proximity to TV t...   \n",
       "1       id80133  Walking distance to Madison Square Garden and ...   \n",
       "2       id80134  Visited Seattle on business. Spent - nights in...   \n",
       "3       id80135  This hotel location is excellent and the rooms...   \n",
       "4       id80136  This hotel is awesome I love the service Antho...   \n",
       "...         ...                                                ...   \n",
       "29399  id109531  I stayed at the hotel and towers for a confere...   \n",
       "29400  id109532  Trying to stay within the Marriott family and ...   \n",
       "29401  id109533  We stayed for - nights with our little dog,ver...   \n",
       "29402  id109534  Stayed at the Yotel over the weekend and was v...   \n",
       "29403  id109535  The Blakely is is comfortable is every way: th...   \n",
       "\n",
       "            Browser_Used Device_Used  \n",
       "0                Firefox      Mobile  \n",
       "1       InternetExplorer     Desktop  \n",
       "2                     IE      Tablet  \n",
       "3                   Edge      Mobile  \n",
       "4                Mozilla      Mobile  \n",
       "...                  ...         ...  \n",
       "29399             Chrome      Mobile  \n",
       "29400  Internet Explorer      Tablet  \n",
       "29401               Edge     Desktop  \n",
       "29402   InternetExplorer     Desktop  \n",
       "29403    Mozilla Firefox      Mobile  \n",
       "\n",
       "[29404 rows x 4 columns]"
      ]
     },
     "execution_count": 89,
     "metadata": {},
     "output_type": "execute_result"
    }
   ],
   "source": [
    "hotel_test=pd.read_csv(\"restraudent_test.csv\")\n",
    "hotel_test\n"
   ]
  },
  {
   "cell_type": "code",
   "execution_count": 90,
   "metadata": {},
   "outputs": [],
   "source": [
    "# Deleting Unnnecessary Columns\n",
    "hotel_test=hotel_test.drop(['User_ID','Browser_Used','Device_Used'],axis=1) #Dropping the column \"User_ID\", \"Browser_Used\",\"Device_Used\""
   ]
  },
  {
   "cell_type": "code",
   "execution_count": 91,
   "metadata": {},
   "outputs": [],
   "source": [
    "# Lets clean the test using clean_text() function\n",
    "hotel_test[\"Description\"] = hotel_test[\"Description\"].apply(lambda x: clean_text(x))"
   ]
  },
  {
   "cell_type": "code",
   "execution_count": 106,
   "metadata": {},
   "outputs": [
    {
     "data": {
      "text/html": [
       "<div>\n",
       "<style scoped>\n",
       "    .dataframe tbody tr th:only-of-type {\n",
       "        vertical-align: middle;\n",
       "    }\n",
       "\n",
       "    .dataframe tbody tr th {\n",
       "        vertical-align: top;\n",
       "    }\n",
       "\n",
       "    .dataframe thead th {\n",
       "        text-align: right;\n",
       "    }\n",
       "</style>\n",
       "<table border=\"1\" class=\"dataframe\">\n",
       "  <thead>\n",
       "    <tr style=\"text-align: right;\">\n",
       "      <th></th>\n",
       "      <th>Description</th>\n",
       "    </tr>\n",
       "  </thead>\n",
       "  <tbody>\n",
       "    <tr>\n",
       "      <td>0</td>\n",
       "      <td>look motel close proximity tap phil show chose...</td>\n",
       "    </tr>\n",
       "    <tr>\n",
       "      <td>1</td>\n",
       "      <td>walk distance madison square garden penn subwa...</td>\n",
       "    </tr>\n",
       "    <tr>\n",
       "      <td>2</td>\n",
       "      <td>visit seattle business spend night vintage par...</td>\n",
       "    </tr>\n",
       "    <tr>\n",
       "      <td>3</td>\n",
       "      <td>hotel location excellent room clean suite one ...</td>\n",
       "    </tr>\n",
       "    <tr>\n",
       "      <td>4</td>\n",
       "      <td>hotel awesome love service anthony really grea...</td>\n",
       "    </tr>\n",
       "    <tr>\n",
       "      <td>...</td>\n",
       "      <td>...</td>\n",
       "    </tr>\n",
       "    <tr>\n",
       "      <td>29399</td>\n",
       "      <td>stayed hotel tower conference love place room ...</td>\n",
       "    </tr>\n",
       "    <tr>\n",
       "      <td>29400</td>\n",
       "      <td>try stay within marriott family want pay park ...</td>\n",
       "    </tr>\n",
       "    <tr>\n",
       "      <td>29401</td>\n",
       "      <td>stay night little dog friendly staff ask sever...</td>\n",
       "    </tr>\n",
       "    <tr>\n",
       "      <td>29402</td>\n",
       "      <td>stayed yotel weekend impressed thing like best...</td>\n",
       "    </tr>\n",
       "    <tr>\n",
       "      <td>29403</td>\n",
       "      <td>blakely comfortable every way room nicely furn...</td>\n",
       "    </tr>\n",
       "  </tbody>\n",
       "</table>\n",
       "<p>29404 rows × 1 columns</p>\n",
       "</div>"
      ],
      "text/plain": [
       "                                             Description\n",
       "0      look motel close proximity tap phil show chose...\n",
       "1      walk distance madison square garden penn subwa...\n",
       "2      visit seattle business spend night vintage par...\n",
       "3      hotel location excellent room clean suite one ...\n",
       "4      hotel awesome love service anthony really grea...\n",
       "...                                                  ...\n",
       "29399  stayed hotel tower conference love place room ...\n",
       "29400  try stay within marriott family want pay park ...\n",
       "29401  stay night little dog friendly staff ask sever...\n",
       "29402  stayed yotel weekend impressed thing like best...\n",
       "29403  blakely comfortable every way room nicely furn...\n",
       "\n",
       "[29404 rows x 1 columns]"
      ]
     },
     "execution_count": 106,
     "metadata": {},
     "output_type": "execute_result"
    }
   ],
   "source": [
    "hotel_test"
   ]
  },
  {
   "cell_type": "code",
   "execution_count": 118,
   "metadata": {},
   "outputs": [
    {
     "data": {
      "text/plain": [
       "<29404x13399 sparse matrix of type '<class 'numpy.float64'>'\n",
       "\twith 1820888 stored elements in Compressed Sparse Row format>"
      ]
     },
     "execution_count": 118,
     "metadata": {},
     "output_type": "execute_result"
    }
   ],
   "source": [
    "# lets converts words into vectors\n",
    "tfidf = TfidfVectorizer(min_df=3,max_features=13399)\n",
    "test_x = tfidf.fit_transform(hotel_test[\"Description\"])\n",
    "\n",
    "test_x"
   ]
  },
  {
   "cell_type": "markdown",
   "metadata": {},
   "source": [
    "* As I train the model using 13399 features so i had taken max_features equal to 13399 otherwise it throws an error"
   ]
  },
  {
   "cell_type": "code",
   "execution_count": 119,
   "metadata": {},
   "outputs": [
    {
     "data": {
      "text/plain": [
       "array([1, 0, 1, ..., 1, 1, 0], dtype=int64)"
      ]
     },
     "execution_count": 119,
     "metadata": {},
     "output_type": "execute_result"
    }
   ],
   "source": [
    "# lets predict our test dataset\n",
    "review_pred=lg.predict(test_x)\n",
    "review_pred"
   ]
  },
  {
   "cell_type": "code",
   "execution_count": 120,
   "metadata": {},
   "outputs": [],
   "source": [
    "# Saving the Predicted values in csv file\n",
    "df1=pd.DataFrame(review_pred)\n",
    "df1.to_csv('Project1_hotel_reviews.csv',index=False)"
   ]
  },
  {
   "cell_type": "code",
   "execution_count": 123,
   "metadata": {},
   "outputs": [
    {
     "data": {
      "text/html": [
       "<div>\n",
       "<style scoped>\n",
       "    .dataframe tbody tr th:only-of-type {\n",
       "        vertical-align: middle;\n",
       "    }\n",
       "\n",
       "    .dataframe tbody tr th {\n",
       "        vertical-align: top;\n",
       "    }\n",
       "\n",
       "    .dataframe thead th {\n",
       "        text-align: right;\n",
       "    }\n",
       "</style>\n",
       "<table border=\"1\" class=\"dataframe\">\n",
       "  <thead>\n",
       "    <tr style=\"text-align: right;\">\n",
       "      <th></th>\n",
       "      <th>review_pred</th>\n",
       "    </tr>\n",
       "  </thead>\n",
       "  <tbody>\n",
       "    <tr>\n",
       "      <td>0</td>\n",
       "      <td>1</td>\n",
       "    </tr>\n",
       "    <tr>\n",
       "      <td>1</td>\n",
       "      <td>0</td>\n",
       "    </tr>\n",
       "    <tr>\n",
       "      <td>2</td>\n",
       "      <td>1</td>\n",
       "    </tr>\n",
       "    <tr>\n",
       "      <td>3</td>\n",
       "      <td>1</td>\n",
       "    </tr>\n",
       "    <tr>\n",
       "      <td>4</td>\n",
       "      <td>1</td>\n",
       "    </tr>\n",
       "    <tr>\n",
       "      <td>...</td>\n",
       "      <td>...</td>\n",
       "    </tr>\n",
       "    <tr>\n",
       "      <td>29399</td>\n",
       "      <td>0</td>\n",
       "    </tr>\n",
       "    <tr>\n",
       "      <td>29400</td>\n",
       "      <td>1</td>\n",
       "    </tr>\n",
       "    <tr>\n",
       "      <td>29401</td>\n",
       "      <td>1</td>\n",
       "    </tr>\n",
       "    <tr>\n",
       "      <td>29402</td>\n",
       "      <td>1</td>\n",
       "    </tr>\n",
       "    <tr>\n",
       "      <td>29403</td>\n",
       "      <td>0</td>\n",
       "    </tr>\n",
       "  </tbody>\n",
       "</table>\n",
       "<p>29404 rows × 1 columns</p>\n",
       "</div>"
      ],
      "text/plain": [
       "       review_pred\n",
       "0                1\n",
       "1                0\n",
       "2                1\n",
       "3                1\n",
       "4                1\n",
       "...            ...\n",
       "29399            0\n",
       "29400            1\n",
       "29401            1\n",
       "29402            1\n",
       "29403            0\n",
       "\n",
       "[29404 rows x 1 columns]"
      ]
     },
     "execution_count": 123,
     "metadata": {},
     "output_type": "execute_result"
    }
   ],
   "source": [
    "#change the name of a dataframe(df1)\n",
    "df1.columns = ['review_pred']\n",
    "df1"
   ]
  },
  {
   "cell_type": "code",
   "execution_count": 129,
   "metadata": {},
   "outputs": [
    {
     "data": {
      "text/plain": [
       "1    16515\n",
       "0    12889\n",
       "Name: review_pred, dtype: int64"
      ]
     },
     "execution_count": 129,
     "metadata": {},
     "output_type": "execute_result"
    }
   ],
   "source": [
    "df1['review_pred'].value_counts()"
   ]
  },
  {
   "cell_type": "code",
   "execution_count": 125,
   "metadata": {},
   "outputs": [],
   "source": [
    "# add sentiment anaylsis columns to visualize positive and negative sentiments\n",
    "from nltk.sentiment.vader import SentimentIntensityAnalyzer\n",
    "\n",
    "sid = SentimentIntensityAnalyzer()\n",
    "df1[\"sentiments\"] = hotel_test[\"Description\"].apply(lambda x: sid.polarity_scores(x))\n",
    "df1 = pd.concat([df1.drop(['sentiments'], axis=1), df1['sentiments'].apply(pd.Series)], axis=1)\n"
   ]
  },
  {
   "cell_type": "code",
   "execution_count": 126,
   "metadata": {},
   "outputs": [
    {
     "data": {
      "image/png": "[encoded data removed]",
      "text/plain": [
       "<Figure size 432x288 with 1 Axes>"
      ]
     },
     "metadata": {},
     "output_type": "display_data"
    }
   ],
   "source": [
    "# plot sentiment distribution for positive and negative reviews\n",
    "\n",
    "import seaborn as sns\n",
    "\n",
    "for x in [0, 1]:\n",
    "    subset = df1[df1['review_pred'] == x]\n",
    "    \n",
    "    # Draw the density plot\n",
    "    if x == 1:\n",
    "        label = \"Positive reviews\"\n",
    "    else:\n",
    "        label = \"negative reviews\"\n",
    "    sns.distplot(subset['compound'], hist = False, label = label)"
   ]
  },
  {
   "cell_type": "markdown",
   "metadata": {},
   "source": [
    "* From above visualization I can conclude that negative reviews are increased as compared to previous reviews(train dataset) "
   ]
  },
  {
   "cell_type": "markdown",
   "metadata": {},
   "source": [
    "# Conclusion :\n",
    "\n",
    ">> 1) Logistic Regression is providing better f1 score,accuracy ,precision,recall and auc_roc score as compared to other          models.\n",
    "\n",
    ">> 2) Positive reviews are more as compaed to negative reviews but it  decreased alot as compared previous train dataset.So        hotel owner have to take necessary steps to improve their service and get back trust of peoples.\n",
    "\n",
    ">> 3) Logistic Regression reduces the False Positive that is Type 1 Error\n"
   ]
  }
 ],
 "metadata": {
  "kernelspec": {
   "display_name": "Python 3",
   "language": "python",
   "name": "python3"
  },
  "language_info": {
   "codemirror_mode": {
    "name": "ipython",
    "version": 3
   },
   "file_extension": ".py",
   "mimetype": "text/x-python",
   "name": "python",
   "nbconvert_exporter": "python",
   "pygments_lexer": "ipython3",
   "version": "3.7.4"
  }
 },
 "nbformat": 4,
 "nbformat_minor": 2
}
