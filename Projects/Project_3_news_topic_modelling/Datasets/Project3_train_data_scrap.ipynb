{
 "cells": [
  {
   "cell_type": "markdown",
   "metadata": {},
   "source": [
    "## Scrap data(news) for train dataset from the Hindu Website on 24-09-2020 at 11:59 pm using BeautifulSoup"
   ]
  },
  {
   "cell_type": "code",
   "execution_count": 1,
   "metadata": {},
   "outputs": [],
   "source": [
    "import requests\n",
    "from bs4 import BeautifulSoup\n",
    "import numpy as np\n",
    "import pandas as pd\n",
    "import time\n",
    "# url definition\n",
    "url = \"https://www.thehindu.com/latest-news/\"\n",
    "# Request\n",
    "r1 = requests.get(url)\n",
    "r1.status_code\n",
    "coverpage_news=[]\n",
    "# We'll save in coverpage the cover page content\n",
    "coverpage = r1.content\n",
    "\n",
    "# Soup creation\n",
    "soup1 = BeautifulSoup(coverpage, 'html5lib')\n",
    "# News identification\n",
    "for ultag in soup1.find_all('ul', {'class': 'latest-news'}):\n",
    "        for litag in ultag.find_all('li'):\n",
    "                #print (litag.text)\n",
    "                coverpage_news.append(litag)\n",
    "\n"
   ]
  },
  {
   "cell_type": "code",
   "execution_count": 2,
   "metadata": {},
   "outputs": [
    {
     "data": {
      "text/plain": [
       "419"
      ]
     },
     "execution_count": 2,
     "metadata": {},
     "output_type": "execute_result"
    }
   ],
   "source": [
    "# Calculating Total news\n",
    "len(coverpage_news)"
   ]
  },
  {
   "cell_type": "code",
   "execution_count": 3,
   "metadata": {},
   "outputs": [
    {
     "data": {
      "text/plain": [
       "<li>\n",
       "<a href=\"https://www.thehindu.com/news/national/andhra-pradesh/coronavirus-puts-the-brakes-on-the-earnings-of-drivers/article32689721.ece\">Coronavirus puts the brakes on the earnings of drivers </a> | <span class=\"homeSection-name\">Andhra Pradesh</span>, <span class=\"l-datetime\">23:46</span>\n",
       "</li>"
      ]
     },
     "execution_count": 3,
     "metadata": {},
     "output_type": "execute_result"
    }
   ],
   "source": [
    "coverpage_news[0]"
   ]
  },
  {
   "cell_type": "code",
   "execution_count": 4,
   "metadata": {},
   "outputs": [
    {
     "data": {
      "text/plain": [
       "'\\nBills aimed at lifting MSP safety cover, says Minister  | Other States, 23:41\\n'"
      ]
     },
     "execution_count": 4,
     "metadata": {},
     "output_type": "execute_result"
    }
   ],
   "source": [
    "coverpage_news[4].get_text()"
   ]
  },
  {
   "cell_type": "code",
   "execution_count": 5,
   "metadata": {},
   "outputs": [
    {
     "data": {
      "text/plain": [
       "'https://www.thehindu.com/news/national/other-states/bills-aimed-at-lifting-msp-safety-cover-says-minister/article32689705.ece'"
      ]
     },
     "execution_count": 5,
     "metadata": {},
     "output_type": "execute_result"
    }
   ],
   "source": [
    "# Getting the link of the article\n",
    "link = coverpage_news[4].find('a')['href']\n",
    "link"
   ]
  },
  {
   "cell_type": "code",
   "execution_count": 6,
   "metadata": {},
   "outputs": [],
   "source": [
    "# Reading the content (it is divided in paragraphs)\n",
    "article = requests.get(link)\n",
    "article_content = article.content\n",
    "soup_article = BeautifulSoup(article_content, 'html5lib')\n",
    "body = soup_article.find_all('div', class_='paywall')"
   ]
  },
  {
   "cell_type": "code",
   "execution_count": 7,
   "metadata": {},
   "outputs": [
    {
     "data": {
      "text/plain": [
       "[<div class=\"paywall\" id=\"content-body-14269002-32689705\">\n",
       " <p>Punjab Finance Minister Manpreet Singh Badal on Thursday said the Centre’s agriculture sector Bills were primarily aimed at lifting the safety cover in the form of Minimum Support Price (MSP), thereby ruining the food growers of the country.</p><p>Mr. Badal said Punjabis would not accept any such move that aimed to harm farmers’ interests, and the State government would vehemently oppose these attempts of the BJP-led Union government. “No one will be allowed to harm the interests of farmers at any cost. The agriculture Bills will deprive the farmers of a safety cover in the form of MSP,” said Mr. Badal.</p><p>He said the ₹50 increase in MSP of wheat announced by the Centre recently was the least in the previous decade (only 2.6%). He said this was despite the fact that the Commission for Agriculture Cost and Prices (CACP) had recommended an MSP increase of 6% in the wake of 8.4% food inflation.</p><p> “This is a pointer that the Union government is dragging its feet from giving due MSP to farmers,” said Mr. Badal.</p><p>Highlighting the significance of MSP to farmers, the Finance Minister said that besides ensuring well being of food growers, it also acted as a catalyst in the State’s development. In Punjab, procurement of food grains worth ₹70,000 crore took place every year. Mr. Badal said the State received ₹3,900 crore mandi fees annually, which was used for maintenance, repair, and upkeep of 65,000 km of link roads, bridges, culverts, mandis, and other infrastructure.</p><h2>‘BJP anti-Punjab ’</h2><p>The Finance Minister said Punjab always borne the brunt of the BJP government’s anti-Punjab stance. “Special tax concessions to hill States, the GST regime, and now these agriculture Bills have broken the backbone of Punjab’s economy,” said Mr. Badal. The worst part was that the Shiromani Akali Dal had always been part and parcel of the BJP’s anti-Punjab tirade, he said.</p>\n",
       " </div>]"
      ]
     },
     "execution_count": 7,
     "metadata": {},
     "output_type": "execute_result"
    }
   ],
   "source": [
    "body"
   ]
  },
  {
   "cell_type": "code",
   "execution_count": 8,
   "metadata": {},
   "outputs": [],
   "source": [
    "# Empty lists for content, links and titles\n",
    "import re\n",
    "news_contents = []\n",
    "list_links = []\n",
    "list_titles = []\n",
    "total_no_of_articles=419\n",
    "for n in np.arange(0, total_no_of_articles):\n",
    "        \n",
    "    # Getting the link of the article\n",
    "    link = coverpage_news[n].find('a')['href']\n",
    "    list_links.append(link)\n",
    "    \n",
    "    # Getting the title\n",
    "    title = coverpage_news[n].find('a').get_text()\n",
    "    list_titles.append(title)\n",
    "    \n",
    "    # Reading the content (it is divided in paragraphs)\n",
    "    article = requests.get(link)\n",
    "    article_content = article.content\n",
    "    soup_article = BeautifulSoup(article_content, 'html5lib')\n",
    "    body = soup_article.find_all('div', class_='paywall')\n",
    "    \n",
    "    # Unifying the paragraphs\n",
    "    list_paragraphs = []\n",
    "    for p in np.arange(0, len(body)):\n",
    "        paragraph = body[p].get_text()\n",
    "        list_paragraphs.append(paragraph)\n",
    "        final_article = \" \".join(list_paragraphs)\n",
    "        news_contents.append(final_article)\n",
    "        \n",
    "   "
   ]
  },
  {
   "cell_type": "code",
   "execution_count": 9,
   "metadata": {},
   "outputs": [],
   "source": [
    "# df_features\n",
    "df_features = pd.DataFrame(\n",
    "     {'Article Content': news_contents \n",
    "    })\n",
    "\n",
    "# df_show_info\n",
    "df_show_info = pd.DataFrame(\n",
    "    {'Article Title': list_titles,\n",
    "     'Article Link': list_links})"
   ]
  },
  {
   "cell_type": "code",
   "execution_count": 10,
   "metadata": {},
   "outputs": [
    {
     "data": {
      "text/html": [
       "<div>\n",
       "<style scoped>\n",
       "    .dataframe tbody tr th:only-of-type {\n",
       "        vertical-align: middle;\n",
       "    }\n",
       "\n",
       "    .dataframe tbody tr th {\n",
       "        vertical-align: top;\n",
       "    }\n",
       "\n",
       "    .dataframe thead th {\n",
       "        text-align: right;\n",
       "    }\n",
       "</style>\n",
       "<table border=\"1\" class=\"dataframe\">\n",
       "  <thead>\n",
       "    <tr style=\"text-align: right;\">\n",
       "      <th></th>\n",
       "      <th>Article Content</th>\n",
       "    </tr>\n",
       "  </thead>\n",
       "  <tbody>\n",
       "    <tr>\n",
       "      <td>0</td>\n",
       "      <td>\\nWith most of the public being dependent on t...</td>\n",
       "    </tr>\n",
       "    <tr>\n",
       "      <td>1</td>\n",
       "      <td>\\nA 19-year-old Dalit girl from a village in H...</td>\n",
       "    </tr>\n",
       "    <tr>\n",
       "      <td>2</td>\n",
       "      <td>\\nThe total number of containment zones in the...</td>\n",
       "    </tr>\n",
       "    <tr>\n",
       "      <td>3</td>\n",
       "      <td>\\nThe Delhi High Court on Thursday asked the C...</td>\n",
       "    </tr>\n",
       "    <tr>\n",
       "      <td>4</td>\n",
       "      <td>\\nPunjab Finance Minister Manpreet Singh Badal...</td>\n",
       "    </tr>\n",
       "    <tr>\n",
       "      <td>...</td>\n",
       "      <td>...</td>\n",
       "    </tr>\n",
       "    <tr>\n",
       "      <td>387</td>\n",
       "      <td>\\nParley in ParliamentIt is sad that the quali...</td>\n",
       "    </tr>\n",
       "    <tr>\n",
       "      <td>388</td>\n",
       "      <td>\\nWhat do Germany, Taiwan and New Zealand have...</td>\n",
       "    </tr>\n",
       "    <tr>\n",
       "      <td>389</td>\n",
       "      <td>\\nThe United Nations has declared September 15...</td>\n",
       "    </tr>\n",
       "    <tr>\n",
       "      <td>390</td>\n",
       "      <td>\\nLeader of Opposition in the Delhi Assembly, ...</td>\n",
       "    </tr>\n",
       "    <tr>\n",
       "      <td>391</td>\n",
       "      <td>\\nThe Ernakulam Rural police have arrested a p...</td>\n",
       "    </tr>\n",
       "  </tbody>\n",
       "</table>\n",
       "<p>392 rows × 1 columns</p>\n",
       "</div>"
      ],
      "text/plain": [
       "                                       Article Content\n",
       "0    \\nWith most of the public being dependent on t...\n",
       "1    \\nA 19-year-old Dalit girl from a village in H...\n",
       "2    \\nThe total number of containment zones in the...\n",
       "3    \\nThe Delhi High Court on Thursday asked the C...\n",
       "4    \\nPunjab Finance Minister Manpreet Singh Badal...\n",
       "..                                                 ...\n",
       "387  \\nParley in ParliamentIt is sad that the quali...\n",
       "388  \\nWhat do Germany, Taiwan and New Zealand have...\n",
       "389  \\nThe United Nations has declared September 15...\n",
       "390  \\nLeader of Opposition in the Delhi Assembly, ...\n",
       "391  \\nThe Ernakulam Rural police have arrested a p...\n",
       "\n",
       "[392 rows x 1 columns]"
      ]
     },
     "execution_count": 10,
     "metadata": {},
     "output_type": "execute_result"
    }
   ],
   "source": [
    "df_features"
   ]
  },
  {
   "cell_type": "code",
   "execution_count": 11,
   "metadata": {},
   "outputs": [
    {
     "data": {
      "text/html": [
       "<div>\n",
       "<style scoped>\n",
       "    .dataframe tbody tr th:only-of-type {\n",
       "        vertical-align: middle;\n",
       "    }\n",
       "\n",
       "    .dataframe tbody tr th {\n",
       "        vertical-align: top;\n",
       "    }\n",
       "\n",
       "    .dataframe thead th {\n",
       "        text-align: right;\n",
       "    }\n",
       "</style>\n",
       "<table border=\"1\" class=\"dataframe\">\n",
       "  <thead>\n",
       "    <tr style=\"text-align: right;\">\n",
       "      <th></th>\n",
       "      <th>Article Title</th>\n",
       "      <th>Article Link</th>\n",
       "    </tr>\n",
       "  </thead>\n",
       "  <tbody>\n",
       "    <tr>\n",
       "      <td>0</td>\n",
       "      <td>Coronavirus puts the brakes on the earnings of...</td>\n",
       "      <td>https://www.thehindu.com/news/national/andhra-...</td>\n",
       "    </tr>\n",
       "    <tr>\n",
       "      <td>1</td>\n",
       "      <td>Dalit girl ‘gang-raped’ by upper caste men in ...</td>\n",
       "      <td>https://www.thehindu.com/news/national/other-s...</td>\n",
       "    </tr>\n",
       "    <tr>\n",
       "      <td>2</td>\n",
       "      <td>No. of containment zones in Capital crosses 2,...</td>\n",
       "      <td>https://www.thehindu.com/news/cities/Delhi/no-...</td>\n",
       "    </tr>\n",
       "    <tr>\n",
       "      <td>3</td>\n",
       "      <td>Shelter home case: sentence challenged</td>\n",
       "      <td>https://www.thehindu.com/news/national/other-s...</td>\n",
       "    </tr>\n",
       "    <tr>\n",
       "      <td>4</td>\n",
       "      <td>Bills aimed at lifting MSP safety cover, says ...</td>\n",
       "      <td>https://www.thehindu.com/news/national/other-s...</td>\n",
       "    </tr>\n",
       "    <tr>\n",
       "      <td>...</td>\n",
       "      <td>...</td>\n",
       "      <td>...</td>\n",
       "    </tr>\n",
       "    <tr>\n",
       "      <td>414</td>\n",
       "      <td>Letters to the Editor — September 24, 2020</td>\n",
       "      <td>https://www.thehindu.com/opinion/letters/lette...</td>\n",
       "    </tr>\n",
       "    <tr>\n",
       "      <td>415</td>\n",
       "      <td>Weighing in on the efficacy of female leadership</td>\n",
       "      <td>https://www.thehindu.com/opinion/lead/weighing...</td>\n",
       "    </tr>\n",
       "    <tr>\n",
       "      <td>416</td>\n",
       "      <td>Seeing dystopia in India’s democracy</td>\n",
       "      <td>https://www.thehindu.com/opinion/lead/seeing-d...</td>\n",
       "    </tr>\n",
       "    <tr>\n",
       "      <td>417</td>\n",
       "      <td>‘Farmers to benefit from Bills passed by Centre’</td>\n",
       "      <td>https://www.thehindu.com/news/cities/Delhi/far...</td>\n",
       "    </tr>\n",
       "    <tr>\n",
       "      <td>418</td>\n",
       "      <td>One arrested under KAAPA</td>\n",
       "      <td>https://www.thehindu.com/news/cities/Kochi/one...</td>\n",
       "    </tr>\n",
       "  </tbody>\n",
       "</table>\n",
       "<p>419 rows × 2 columns</p>\n",
       "</div>"
      ],
      "text/plain": [
       "                                         Article Title  \\\n",
       "0    Coronavirus puts the brakes on the earnings of...   \n",
       "1    Dalit girl ‘gang-raped’ by upper caste men in ...   \n",
       "2    No. of containment zones in Capital crosses 2,...   \n",
       "3              Shelter home case: sentence challenged    \n",
       "4    Bills aimed at lifting MSP safety cover, says ...   \n",
       "..                                                 ...   \n",
       "414        Letters to the Editor — September 24, 2020    \n",
       "415  Weighing in on the efficacy of female leadership    \n",
       "416              Seeing dystopia in India’s democracy    \n",
       "417  ‘Farmers to benefit from Bills passed by Centre’    \n",
       "418                          One arrested under KAAPA    \n",
       "\n",
       "                                          Article Link  \n",
       "0    https://www.thehindu.com/news/national/andhra-...  \n",
       "1    https://www.thehindu.com/news/national/other-s...  \n",
       "2    https://www.thehindu.com/news/cities/Delhi/no-...  \n",
       "3    https://www.thehindu.com/news/national/other-s...  \n",
       "4    https://www.thehindu.com/news/national/other-s...  \n",
       "..                                                 ...  \n",
       "414  https://www.thehindu.com/opinion/letters/lette...  \n",
       "415  https://www.thehindu.com/opinion/lead/weighing...  \n",
       "416  https://www.thehindu.com/opinion/lead/seeing-d...  \n",
       "417  https://www.thehindu.com/news/cities/Delhi/far...  \n",
       "418  https://www.thehindu.com/news/cities/Kochi/one...  \n",
       "\n",
       "[419 rows x 2 columns]"
      ]
     },
     "execution_count": 11,
     "metadata": {},
     "output_type": "execute_result"
    }
   ],
   "source": [
    "df_show_info"
   ]
  },
  {
   "cell_type": "code",
   "execution_count": 12,
   "metadata": {},
   "outputs": [
    {
     "name": "stdout",
     "output_type": "stream",
     "text": [
      "sum of duplicated values0\n",
      "\n"
     ]
    }
   ],
   "source": [
    "print(\"sum of duplicated values{}\\n\".format(df_features.duplicated().sum()))"
   ]
  },
  {
   "cell_type": "code",
   "execution_count": 13,
   "metadata": {},
   "outputs": [],
   "source": [
    "# Saving article content into csv\n",
    "dataset = df_features.to_csv(r'C:\\Users\\devanshu suri\\Downloads\\scrap_news.csv',index=None,header=True)"
   ]
  }
 ],
 "metadata": {
  "kernelspec": {
   "display_name": "Python 3",
   "language": "python",
   "name": "python3"
  },
  "language_info": {
   "codemirror_mode": {
    "name": "ipython",
    "version": 3
   },
   "file_extension": ".py",
   "mimetype": "text/x-python",
   "name": "python",
   "nbconvert_exporter": "python",
   "pygments_lexer": "ipython3",
   "version": "3.7.4"
  }
 },
 "nbformat": 4,
 "nbformat_minor": 2
}
