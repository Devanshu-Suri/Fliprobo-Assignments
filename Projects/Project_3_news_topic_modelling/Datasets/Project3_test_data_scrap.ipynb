{
 "cells": [
  {
   "cell_type": "markdown",
   "metadata": {},
   "source": [
    "## Scrap data(news) for test dataset from the Hindu Website using BeautifulSoup"
   ]
  },
  {
   "cell_type": "code",
   "execution_count": 1,
   "metadata": {},
   "outputs": [],
   "source": [
    "import requests\n",
    "from bs4 import BeautifulSoup\n",
    "import numpy as np\n",
    "import pandas as pd\n",
    "import time\n",
    "# url definition\n",
    "url = \"https://www.thehindu.com/latest-news/\"\n",
    "# Request\n",
    "r1 = requests.get(url)\n",
    "r1.status_code\n",
    "coverpage_news=[]\n",
    "# We'll save in coverpage the cover page content\n",
    "coverpage = r1.content\n",
    "\n",
    "# Soup creation\n",
    "soup1 = BeautifulSoup(coverpage, 'html5lib')\n",
    "# News identification\n",
    "for ultag in soup1.find_all('ul', {'class': 'latest-news'}):\n",
    "        for litag in ultag.find_all('li'):\n",
    "                #print (litag.text)\n",
    "                coverpage_news.append(litag)\n",
    "\n"
   ]
  },
  {
   "cell_type": "code",
   "execution_count": 2,
   "metadata": {},
   "outputs": [
    {
     "data": {
      "text/plain": [
       "174"
      ]
     },
     "execution_count": 2,
     "metadata": {},
     "output_type": "execute_result"
    }
   ],
   "source": [
    "# Calculating Total news\n",
    "len(coverpage_news)"
   ]
  },
  {
   "cell_type": "code",
   "execution_count": 3,
   "metadata": {},
   "outputs": [
    {
     "data": {
      "text/plain": [
       "<li>\n",
       "<a href=\"https://www.thehindu.com/entertainment/movies/remembering-spbs-maiden-song/article32695074.ece\">Remembering SPB’s maiden song </a> | <span class=\"homeSection-name\">Movies</span>, <span class=\"l-datetime\">15:38</span>\n",
       "</li>"
      ]
     },
     "execution_count": 3,
     "metadata": {},
     "output_type": "execute_result"
    }
   ],
   "source": [
    "coverpage_news[0]"
   ]
  },
  {
   "cell_type": "code",
   "execution_count": 4,
   "metadata": {},
   "outputs": [
    {
     "data": {
      "text/plain": [
       "\"\\nPolitical leaders condole S.P. Balasubrahmanyam's death  | Tamil Nadu, 15:31\\n\""
      ]
     },
     "execution_count": 4,
     "metadata": {},
     "output_type": "execute_result"
    }
   ],
   "source": [
    "coverpage_news[4].get_text()"
   ]
  },
  {
   "cell_type": "code",
   "execution_count": 5,
   "metadata": {},
   "outputs": [
    {
     "data": {
      "text/plain": [
       "'https://www.thehindu.com/news/national/tamil-nadu/political-leaders-condole-sp-balasubrahmanyams-death/article32694994.ece'"
      ]
     },
     "execution_count": 5,
     "metadata": {},
     "output_type": "execute_result"
    }
   ],
   "source": [
    "# Getting the link of the article\n",
    "link = coverpage_news[4].find('a')['href']\n",
    "link"
   ]
  },
  {
   "cell_type": "code",
   "execution_count": 6,
   "metadata": {},
   "outputs": [],
   "source": [
    "# Reading the content (it is divided in paragraphs)\n",
    "article = requests.get(link)\n",
    "article_content = article.content\n",
    "soup_article = BeautifulSoup(article_content, 'html5lib')\n",
    "body = soup_article.find_all('div', class_='paywall')"
   ]
  },
  {
   "cell_type": "code",
   "execution_count": 7,
   "metadata": {},
   "outputs": [
    {
     "data": {
      "text/plain": [
       "[<div class=\"paywall\" id=\"content-body-14269002-32694994\">\n",
       " <p> Political leaders cutting across party lines condoled the death of singer S.P. Balasubrahmanyam.</p><p>Tamil Nadu Deputy Chief Minister O. Panneerselvam said everyone was hoping that he would recover and come back and this news has come as a shock to all his fans across the globe. He recalled that Balasubrahmanyam not only made his mark as a singer but also as an actor and extended his condolences.</p><p>DMK president M.K. Stalin said the news is hard to digest and the bad time like COVID has separated an extra-ordinary singer from us. “It is a great loss for the music world and crores of his fans including me. I consider this as a personal loss. His songs and sweet voice will always remain with us,” he added</p><p>PMK Youth Wing leader Anbumani Ramadoss said it is a an \"irreversible loss\" to the music world.</p><p>Tamil Nadu Congress Committee (TNCC) president K.S. Alagiri said Balasubramanyam's death was an irreparable loss to the country. \"I was shocked and distressed to hear about his death. He attracted crores of followers through his singing and it's a big loss to India and especially his fans from Tamil Nadu,\" Mr. Alagiri said.</p><p>Senior Congress leader P. Chidambaram said the music and film industry has lost a great artist.</p><p>MDMK Chief Vaiko, Tamil Maanila Congress leader GK Vasan and Amma Makkal Munnetra Kazhagam founder T.T.V. Dhinakaran also extended their condolences.</p>\n",
       " </div>]"
      ]
     },
     "execution_count": 7,
     "metadata": {},
     "output_type": "execute_result"
    }
   ],
   "source": [
    "body"
   ]
  },
  {
   "cell_type": "code",
   "execution_count": 9,
   "metadata": {},
   "outputs": [],
   "source": [
    "# Empty lists for content, links and titles\n",
    "import re\n",
    "news_contents = []\n",
    "list_links = []\n",
    "list_titles = []\n",
    "total_no_of_articles=174\n",
    "for n in np.arange(0, total_no_of_articles):\n",
    "        \n",
    "    # Getting the link of the article\n",
    "    link = coverpage_news[n].find('a')['href']\n",
    "    list_links.append(link)\n",
    "    \n",
    "    # Getting the title\n",
    "    title = coverpage_news[n].find('a').get_text()\n",
    "    list_titles.append(title)\n",
    "    \n",
    "    # Reading the content (it is divided in paragraphs)\n",
    "    article = requests.get(link)\n",
    "    article_content = article.content\n",
    "    soup_article = BeautifulSoup(article_content, 'html5lib')\n",
    "    body = soup_article.find_all('div', class_='paywall')\n",
    "    \n",
    "    # Unifying the paragraphs\n",
    "    list_paragraphs = []\n",
    "    for p in np.arange(0, len(body)):\n",
    "        paragraph = body[p].get_text()\n",
    "        list_paragraphs.append(paragraph)\n",
    "        final_article = \" \".join(list_paragraphs)\n",
    "        news_contents.append(final_article)\n",
    "        \n",
    "   "
   ]
  },
  {
   "cell_type": "code",
   "execution_count": 10,
   "metadata": {},
   "outputs": [],
   "source": [
    "# df_features\n",
    "df_features = pd.DataFrame(\n",
    "     {'Article Content': news_contents \n",
    "    })\n",
    "\n",
    "# df_show_info\n",
    "df_show_info = pd.DataFrame(\n",
    "    {'Article Title': list_titles,\n",
    "     'Article Link': list_links})"
   ]
  },
  {
   "cell_type": "code",
   "execution_count": 11,
   "metadata": {},
   "outputs": [
    {
     "data": {
      "text/html": [
       "<div>\n",
       "<style scoped>\n",
       "    .dataframe tbody tr th:only-of-type {\n",
       "        vertical-align: middle;\n",
       "    }\n",
       "\n",
       "    .dataframe tbody tr th {\n",
       "        vertical-align: top;\n",
       "    }\n",
       "\n",
       "    .dataframe thead th {\n",
       "        text-align: right;\n",
       "    }\n",
       "</style>\n",
       "<table border=\"1\" class=\"dataframe\">\n",
       "  <thead>\n",
       "    <tr style=\"text-align: right;\">\n",
       "      <th></th>\n",
       "      <th>Article Content</th>\n",
       "    </tr>\n",
       "  </thead>\n",
       "  <tbody>\n",
       "    <tr>\n",
       "      <td>0</td>\n",
       "      <td>\\nMaduravoyal Police have arrested an advocate...</td>\n",
       "    </tr>\n",
       "    <tr>\n",
       "      <td>1</td>\n",
       "      <td>\\nLet’s just say that after the minimalist, wh...</td>\n",
       "    </tr>\n",
       "    <tr>\n",
       "      <td>2</td>\n",
       "      <td>\\n The CAG has found that the Union government...</td>\n",
       "    </tr>\n",
       "    <tr>\n",
       "      <td>3</td>\n",
       "      <td>\\n Political leaders cutting across party line...</td>\n",
       "    </tr>\n",
       "    <tr>\n",
       "      <td>4</td>\n",
       "      <td>\\n Two men died after allegedly consuming adul...</td>\n",
       "    </tr>\n",
       "    <tr>\n",
       "      <td>...</td>\n",
       "      <td>...</td>\n",
       "    </tr>\n",
       "    <tr>\n",
       "      <td>151</td>\n",
       "      <td>\\nThe district reported 425 new COVID -19 case...</td>\n",
       "    </tr>\n",
       "    <tr>\n",
       "      <td>152</td>\n",
       "      <td>\\nOpposition strategyThough the passage of the...</td>\n",
       "    </tr>\n",
       "    <tr>\n",
       "      <td>153</td>\n",
       "      <td>\\nThe mystic, celestial snow lion, ‘Gang Seng ...</td>\n",
       "    </tr>\n",
       "    <tr>\n",
       "      <td>154</td>\n",
       "      <td>\\nHealth facilities are a place of healing and...</td>\n",
       "    </tr>\n",
       "    <tr>\n",
       "      <td>155</td>\n",
       "      <td>\\nThe Visakhapatnam region of APSRTC will oper...</td>\n",
       "    </tr>\n",
       "  </tbody>\n",
       "</table>\n",
       "<p>156 rows × 1 columns</p>\n",
       "</div>"
      ],
      "text/plain": [
       "                                       Article Content\n",
       "0    \\nMaduravoyal Police have arrested an advocate...\n",
       "1    \\nLet’s just say that after the minimalist, wh...\n",
       "2    \\n The CAG has found that the Union government...\n",
       "3    \\n Political leaders cutting across party line...\n",
       "4    \\n Two men died after allegedly consuming adul...\n",
       "..                                                 ...\n",
       "151  \\nThe district reported 425 new COVID -19 case...\n",
       "152  \\nOpposition strategyThough the passage of the...\n",
       "153  \\nThe mystic, celestial snow lion, ‘Gang Seng ...\n",
       "154  \\nHealth facilities are a place of healing and...\n",
       "155  \\nThe Visakhapatnam region of APSRTC will oper...\n",
       "\n",
       "[156 rows x 1 columns]"
      ]
     },
     "execution_count": 11,
     "metadata": {},
     "output_type": "execute_result"
    }
   ],
   "source": [
    "df_features"
   ]
  },
  {
   "cell_type": "code",
   "execution_count": 12,
   "metadata": {},
   "outputs": [
    {
     "data": {
      "text/html": [
       "<div>\n",
       "<style scoped>\n",
       "    .dataframe tbody tr th:only-of-type {\n",
       "        vertical-align: middle;\n",
       "    }\n",
       "\n",
       "    .dataframe tbody tr th {\n",
       "        vertical-align: top;\n",
       "    }\n",
       "\n",
       "    .dataframe thead th {\n",
       "        text-align: right;\n",
       "    }\n",
       "</style>\n",
       "<table border=\"1\" class=\"dataframe\">\n",
       "  <thead>\n",
       "    <tr style=\"text-align: right;\">\n",
       "      <th></th>\n",
       "      <th>Article Title</th>\n",
       "      <th>Article Link</th>\n",
       "    </tr>\n",
       "  </thead>\n",
       "  <tbody>\n",
       "    <tr>\n",
       "      <td>0</td>\n",
       "      <td>Remembering SPB’s maiden song</td>\n",
       "      <td>https://www.thehindu.com/entertainment/movies/...</td>\n",
       "    </tr>\n",
       "    <tr>\n",
       "      <td>1</td>\n",
       "      <td>Advocate arrested in Chennai five years after ...</td>\n",
       "      <td>https://www.thehindu.com/news/cities/chennai/a...</td>\n",
       "    </tr>\n",
       "    <tr>\n",
       "      <td>2</td>\n",
       "      <td>Metallic and moulded on Amit Aggarwal’s online...</td>\n",
       "      <td>https://www.thehindu.com/life-and-style/fashio...</td>\n",
       "    </tr>\n",
       "    <tr>\n",
       "      <td>3</td>\n",
       "      <td>Centre used GST compensation cess elsewhere, v...</td>\n",
       "      <td>https://www.thehindu.com/news/national/centre-...</td>\n",
       "    </tr>\n",
       "    <tr>\n",
       "      <td>4</td>\n",
       "      <td>Political leaders condole S.P. Balasubrahmanya...</td>\n",
       "      <td>https://www.thehindu.com/news/national/tamil-n...</td>\n",
       "    </tr>\n",
       "    <tr>\n",
       "      <td>...</td>\n",
       "      <td>...</td>\n",
       "      <td>...</td>\n",
       "    </tr>\n",
       "    <tr>\n",
       "      <td>169</td>\n",
       "      <td>COVID recovery rate in Visakhapatnam crosses 90%</td>\n",
       "      <td>https://www.thehindu.com/news/national/andhra-...</td>\n",
       "    </tr>\n",
       "    <tr>\n",
       "      <td>170</td>\n",
       "      <td>Letters to the Editor — September 25, 2020</td>\n",
       "      <td>https://www.thehindu.com/opinion/letters/lette...</td>\n",
       "    </tr>\n",
       "    <tr>\n",
       "      <td>171</td>\n",
       "      <td>Shadow force apart, India needs a China plan</td>\n",
       "      <td>https://www.thehindu.com/opinion/lead/shadow-f...</td>\n",
       "    </tr>\n",
       "    <tr>\n",
       "      <td>172</td>\n",
       "      <td>Health worker safety deserves a second look</td>\n",
       "      <td>https://www.thehindu.com/opinion/lead/health-w...</td>\n",
       "    </tr>\n",
       "    <tr>\n",
       "      <td>173</td>\n",
       "      <td>APSRTC’s Odisha services from Sept. 25</td>\n",
       "      <td>https://www.thehindu.com/news/national/andhra-...</td>\n",
       "    </tr>\n",
       "  </tbody>\n",
       "</table>\n",
       "<p>174 rows × 2 columns</p>\n",
       "</div>"
      ],
      "text/plain": [
       "                                         Article Title  \\\n",
       "0                       Remembering SPB’s maiden song    \n",
       "1    Advocate arrested in Chennai five years after ...   \n",
       "2    Metallic and moulded on Amit Aggarwal’s online...   \n",
       "3    Centre used GST compensation cess elsewhere, v...   \n",
       "4    Political leaders condole S.P. Balasubrahmanya...   \n",
       "..                                                 ...   \n",
       "169  COVID recovery rate in Visakhapatnam crosses 90%    \n",
       "170        Letters to the Editor — September 25, 2020    \n",
       "171      Shadow force apart, India needs a China plan    \n",
       "172       Health worker safety deserves a second look    \n",
       "173            APSRTC’s Odisha services from Sept. 25    \n",
       "\n",
       "                                          Article Link  \n",
       "0    https://www.thehindu.com/entertainment/movies/...  \n",
       "1    https://www.thehindu.com/news/cities/chennai/a...  \n",
       "2    https://www.thehindu.com/life-and-style/fashio...  \n",
       "3    https://www.thehindu.com/news/national/centre-...  \n",
       "4    https://www.thehindu.com/news/national/tamil-n...  \n",
       "..                                                 ...  \n",
       "169  https://www.thehindu.com/news/national/andhra-...  \n",
       "170  https://www.thehindu.com/opinion/letters/lette...  \n",
       "171  https://www.thehindu.com/opinion/lead/shadow-f...  \n",
       "172  https://www.thehindu.com/opinion/lead/health-w...  \n",
       "173  https://www.thehindu.com/news/national/andhra-...  \n",
       "\n",
       "[174 rows x 2 columns]"
      ]
     },
     "execution_count": 12,
     "metadata": {},
     "output_type": "execute_result"
    }
   ],
   "source": [
    "df_show_info"
   ]
  },
  {
   "cell_type": "code",
   "execution_count": 13,
   "metadata": {},
   "outputs": [
    {
     "name": "stdout",
     "output_type": "stream",
     "text": [
      "sum of duplicated values0\n",
      "\n"
     ]
    }
   ],
   "source": [
    "print(\"sum of duplicated values{}\\n\".format(df_features.duplicated().sum()))"
   ]
  },
  {
   "cell_type": "code",
   "execution_count": 14,
   "metadata": {},
   "outputs": [],
   "source": [
    "# Saving article content into csv\n",
    "dataset = df_features.to_csv(r'C:\\Users\\devanshu suri\\Downloads\\scrap_news_test.csv',index=None,header=True)"
   ]
  }
 ],
 "metadata": {
  "kernelspec": {
   "display_name": "Python 3",
   "language": "python",
   "name": "python3"
  },
  "language_info": {
   "codemirror_mode": {
    "name": "ipython",
    "version": 3
   },
   "file_extension": ".py",
   "mimetype": "text/x-python",
   "name": "python",
   "nbconvert_exporter": "python",
   "pygments_lexer": "ipython3",
   "version": "3.7.4"
  }
 },
 "nbformat": 4,
 "nbformat_minor": 2
}
